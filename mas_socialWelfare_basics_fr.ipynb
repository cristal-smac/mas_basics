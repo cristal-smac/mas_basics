{
 "cells": [
  {
   "cell_type": "markdown",
   "metadata": {},
   "source": [
    "# La théorie du bien-être social\n",
    "\n",
    "Le problème présenté ici, connu sous l'acronyme **MARA** (Multiagent Resource allocation), rentre dans le cadre de l'affectation de ressources à un certain nombre d'agents. On considère un ensemble de ressources et un ensemble d'agents à qui l'on doit distribuer ces ressources. Les resources considérées ici sont continues, indivisibles et non-partageables. Chaque agent étant autonome, il n'accorde pas la même importance aux différentes ressources que ses congénères. Pour mesurer la satisfaction d'un agent lors de la possession d'un certain nombre de ressources on utilise ici une fonction d'utilité qui, pour chaque ressource, indique la valeur que l'agent lui accorde. D'autres considérations pourraient bien-sûr être prises en compte, nous restons ici dans un cadre simple. Le bien-être individuel d'un agent est évalué par la somme des utilités qu'il accorde aux ressources qu'il possède (on dit que les ressources sont k-additives avec k=1, car dans des cas complexes on pourrait considérer que posséder n ressources vaut plus que la valeur de chacune d'entre-elles).\n",
    "Mais la collectivité doit aussi s'accorder sur une mesure de bien-être. Pour mesurer le bien-être social, il existe 4 grandes méthodes classiques:\n",
    "\n",
    "- Utilitaire : maximiser la somme des utilités de chaque agent\n",
    "- Egalitaire : maximiser le minimum\n",
    "- Elitiste : maximiser le maximum\n",
    "- ressource de Nash : maximiser le ressource\n",
    "\n",
    "Le problème consiste alors à trouver comment affecter l'ensemble des ressources aux différents agents de manière à maximiser le bien-être social choisi.\n",
    "\n",
    "Cette feuille montre comment, à l'aide d'une approche comportementale, il est possible de s'approcher voire de calculer l'optimum social.\n",
    "\n",
    "### Comment coder ressources et fonctions d'utilité\n",
    "\n",
    "Afin de pouvoir jouer sur les nombres de ressources et/ou d'agents, nous générerons aléatoirement des noms de ressources afin de pouvoir en avoir autant que l'on souhaite.  Pour la fonction d'utilité, on utilisera un dictionnaire Python, donc les clés sont les ressources potentielles et les valeurs le poids que l'agent accorde à cette clé. Pour ces valeurs on prendra un entier naturel (donc sans le zero, qui évidemment pose problème lors d'un produit de Nash). Par convention, plus il sera important, plus l'agent accordera de la valeur à cet article.\n"
   ]
  },
  {
   "cell_type": "code",
   "execution_count": 1,
   "metadata": {},
   "outputs": [
    {
     "name": "stdout",
     "output_type": "stream",
     "text": [
      "Un ensemble de ressources \t ['RFIRA', 'DCIUW', 'WTXUK', 'IQJPL', 'NUUJQ', 'SNHWD', 'UUCAD', 'LKMYM', 'FLHLM', 'MUWNO']\n",
      "Une fonction d'utilité\t {'RFIRA': 7, 'DCIUW': 18, 'WTXUK': 10, 'IQJPL': 13, 'NUUJQ': 9, 'SNHWD': 7, 'UUCAD': 1, 'LKMYM': 13, 'FLHLM': 18, 'MUWNO': 14}\n"
     ]
    }
   ],
   "source": [
    "import numpy as np\n",
    "import pandas as pd # mainly for results\n",
    "import random       # mainly for choice et randrange\n",
    "import string       # mainly for ascii_uppercase\n",
    "import functools    # mainly for reduce\n",
    "import copy         # mainly for deepcopy \n",
    "\n",
    "nb_resources =10                        # nb de ressources souhaités\n",
    "valeurs = list(range(1,20))  # intervalle de valuation de chaque ressource\n",
    "\n",
    "def genere_nom():\n",
    "    return ''.join(random.choice(string.ascii_uppercase) for _ in range(5))\n",
    "   \n",
    "# Generer une liste de ressources\n",
    "ressources = [genere_nom() for _ in range(nb_resources)]\n",
    "print(\"Un ensemble de ressources \\t\", ressources)\n",
    "\n",
    "# Creer une fonction d'utilité avec des valeurs aléatoires\n",
    "u = {r : random.choice(valeurs) for r in ressources}\n",
    "print(\"Une fonction d'utilité\\t\" , u)"
   ]
  },
  {
   "cell_type": "markdown",
   "metadata": {},
   "source": [
    "# On passe aux agents\n",
    "Un agent est défini avec le `bag` de ressources qu'il possède et une fonction d'utilité `fUtil` lui permettant de l'évaluer.\n",
    "Lors de sa création, la fonction d'évalution de l'agent est définie aléatoirement. Le bag est initialement vide. La méthode `welfare` permet de connaître le bien-être individuel de l'agent, ou en d'autres termes, comment l'agent évalue son bag."
   ]
  },
  {
   "cell_type": "code",
   "execution_count": 2,
   "metadata": {},
   "outputs": [],
   "source": [
    "class Agent:\n",
    "    def __init__(self,name) :\n",
    "        self.name=name\n",
    "        self.fUtil = {r : random.choice(valeurs) for r in ressources}\n",
    "        self.bag = []\n",
    "    def __str__(self) :\n",
    "        return \"agent \"+str(self.name)+\"  \"+ str(len(self.bag)) + \" resources. Individual welfare \"+ str(self.welfare())\n",
    "    def welfare(self):\n",
    "        return sum([self.fUtil.get(r) for r in self.bag]) \n",
    "        "
   ]
  },
  {
   "cell_type": "markdown",
   "metadata": {},
   "source": [
    "Quelques manipulations basiques sur un agent pour s'entrainer ;-)"
   ]
  },
  {
   "cell_type": "code",
   "execution_count": 3,
   "metadata": {},
   "outputs": [
    {
     "name": "stdout",
     "output_type": "stream",
     "text": [
      "Bag \t\t ['IQJPL', 'WTXUK', 'DCIUW', 'SNHWD', 'UUCAD']\n",
      "fUtil \t\t {'RFIRA': 13, 'DCIUW': 6, 'WTXUK': 16, 'IQJPL': 6, 'NUUJQ': 11, 'SNHWD': 17, 'UUCAD': 12, 'LKMYM': 2, 'FLHLM': 1, 'MUWNO': 4}\n",
      "welfare \t 57\n",
      "bag valué \t [('IQJPL', 6), ('WTXUK', 16), ('DCIUW', 6), ('SNHWD', 17), ('UUCAD', 12)]\n",
      "bag valué trié \t [('IQJPL', 6), ('DCIUW', 6), ('UUCAD', 12), ('WTXUK', 16), ('SNHWD', 17)]\n",
      "ressourc triées\t ['IQJPL', 'DCIUW', 'UUCAD', 'WTXUK', 'SNHWD']\n"
     ]
    }
   ],
   "source": [
    "a=Agent(\"ag\")\n",
    "a.bag=random.sample(ressources,5) # choices : avec remplacement ; sample : sans remplacement\n",
    "\n",
    "# le bag de l'agent a\n",
    "print(\"Bag \\t\\t\", a.bag)                              # ou sorted(a.bag)\n",
    "\n",
    "# la fonction d'utilité de l'agent a\n",
    "print(\"fUtil \\t\\t\", a.fUtil)                        # ou dict(sorted(a.fUtil.items()))\n",
    "\n",
    "# le bien-être de l'agent a\n",
    "print(\"welfare \\t\", a.welfare())\n",
    "\n",
    "# le bag avec ses valeurs\n",
    "bv = [ (r,a.fUtil.get(r)) for r in a.bag]\n",
    "print(\"bag valué \\t\" , bv )\n",
    "\n",
    "# le bag valué , trié par ordre croissant des valeurs\n",
    "print(\"bag valué trié \\t\", sorted(bv, key=lambda x: x[1]) )\n",
    "\n",
    "# les ressources, triées par valuation (la premier est celle dont on se débarrasse le plus facilement\n",
    "print(\"ressourc triées\\t\",  [r for r,_ in sorted(bv, key=lambda x: x[1])]    )"
   ]
  },
  {
   "cell_type": "markdown",
   "metadata": {},
   "source": [
    "On peut maintenant créer autant d'agents que l'on souhaite, leur affecter des ressources et calculer leur bien-être individuel"
   ]
  },
  {
   "cell_type": "code",
   "execution_count": 4,
   "metadata": {},
   "outputs": [
    {
     "name": "stdout",
     "output_type": "stream",
     "text": [
      "agent ag0  3 resources. Individual welfare 27\n",
      "agent ag1  1 resources. Individual welfare 11\n",
      "agent ag2  2 resources. Individual welfare 18\n",
      "agent ag3  3 resources. Individual welfare 36\n",
      "agent ag4  1 resources. Individual welfare 3\n"
     ]
    }
   ],
   "source": [
    "# creer 5 agents\n",
    "agentList = [Agent(\"ag\"+str(i)) for i in range(5) ]\n",
    " \n",
    "# distribuer les ressources aléatoirement\n",
    "for i in range(len(ressources)) :\n",
    "    random.choice(agentList).bag.append(ressources[i])\n",
    "\n",
    "# afficher les agents\n",
    "for a in agentList: print(a)"
   ]
  },
  {
   "cell_type": "markdown",
   "metadata": {},
   "source": [
    "# Approche centralisée\n",
    "Maintenant que les agents ont un `bag` rempli, il est maintenant possible de calculer le bien-être de cette société d'agents.\n",
    "Le calcul du bien-être social consiste à appliquer une opération spécifique (selon la fonction de bien-être souhaitée) à la valuation du bag de chaque agent. Pour le bien-être-social utilitaire c'est par exemple une somme.\n",
    "\n",
    "| nom | fn à maximiser | Caractéristique |\n",
    "| -----| ----|--- |\n",
    "| utilitaire | somme | équilibre global, sans tenir compte des bien-être individuels |\n",
    "| égalitaire | min | permet de satisfaire un minimum de désir pour tous les agents \n",
    "| élististe | max | on donne tout à son \"champion\" |\n",
    "| Nash | produit | à la fois augmentation de l’utilité globale mais aussi diminution des inégalités |\n"
   ]
  },
  {
   "cell_type": "code",
   "execution_count": 5,
   "metadata": {},
   "outputs": [
    {
     "name": "stdout",
     "output_type": "stream",
     "text": [
      "Utilitarian Social Welfare\t 95\n",
      "Egalitarian Social Welfare\t 3\n",
      "Elitist Social Welfare\t\t 36\n",
      "Nash Social Welfare\t\t 577368\n"
     ]
    }
   ],
   "source": [
    "print('Utilitarian Social Welfare\\t', functools.reduce(lambda a, b: sum([a,b]) , [a.welfare() for a in agentList]) )\n",
    "print('Egalitarian Social Welfare\\t', functools.reduce(lambda a, b: min([a,b]) , [a.welfare() for a in agentList]) )\n",
    "print('Elitist Social Welfare\\t\\t',   functools.reduce(lambda a, b: max([a,b]) , [a.welfare() for a in agentList]) )\n",
    "print('Nash Social Welfare\\t\\t', functools.reduce(lambda a, b: np.prod([a,b]) , [a.welfare() for a in agentList]) )\n"
   ]
  },
  {
   "cell_type": "markdown",
   "metadata": {},
   "source": [
    "### Notion d'optimal social\n",
    "\n",
    "Parmi toutes les affectations possibles de différentes ressources, certaines fournissent la valeur maximale possible à la fonction de bien-être social. Pour certains bien-être sociaux cette affectation est facile à calculer (elististe, utilitaire) , pour d'autres c'est beaucoup plus compliqué. De plus, on considère ici qu'une \"main invisible\" (clin d'oeil à [Adam Smith](https://fr.wikipedia.org/wiki/Main_invisible)) distribue les ressources comme par magie. Si on souhaite prendre en compte les relations sociales entre les agents, cela devient compliqué même pour les fonctions d'utilité les plus simples.\n",
    "\n",
    "##### Solution optimale pour le bien-être social élitiste\n",
    "Le bien-être social **élitiste** consiste à **maximiser la richesse du plus riche** des agents (tout donner à son \"champion\" en quelque sorte). Quand les utilités sont 1-additives, calculer cet optimal est facile puisqu'il suffit de donner toutes les ressources à l'agents qui valorise le mieux la totalité des ressources.\n",
    "La \"main invisible\" affecte tour à tour tous les produis à chaque agent, et regarde qui est au bien-être maximum (on pourrait imaginer faire la somme des valuations de la fonction d'utilité sans affecter les ressources, mais cela ne fonctionnerait que si une ressource n'apparaît qu'une et une seule fois)."
   ]
  },
  {
   "cell_type": "code",
   "execution_count": 10,
   "metadata": {},
   "outputs": [
    {
     "name": "stdout",
     "output_type": "stream",
     "text": [
      "Elitiste. Valeur optimale :  126 . Obtenue en donnant tout à l'agent  ag2\n"
     ]
    }
   ],
   "source": [
    "# on affecte toutes les ressources à tous les agents\n",
    "for a in agentList:\n",
    "    a.bag = ressources.copy()\n",
    "\n",
    "# On recherche la plus forte évaluation\n",
    "index = np.argmax([a.welfare() for a in agentList])\n",
    "m = agentList[index].welfare()\n",
    "\n",
    "print(\"Elitiste. Valeur optimale : \", m,\". Obtenue en donnant tout à l'agent \", agentList[index].name)"
   ]
  },
  {
   "cell_type": "markdown",
   "metadata": {},
   "source": [
    "##### Solution optimale pour le bien-être social utilitaire\n",
    "Le bien-être social **utilitaire** consiste à **maximiser la somme** des richesses de tous les agents. Calculer cet optimal est facile puisqu'il suffit de donner chaque ressource à l'agent qui la valorise le mieux."
   ]
  },
  {
   "cell_type": "code",
   "execution_count": 11,
   "metadata": {},
   "outputs": [
    {
     "name": "stdout",
     "output_type": "stream",
     "text": [
      "Utilitaire. Valeur optimale :  154  obtenue avec les affectations \n",
      "agent ag0  2 resources. Individual welfare 33 ['NUUJQ', 'UUCAD']\n",
      "agent ag1  1 resources. Individual welfare 13 ['MUWNO']\n",
      "agent ag2  4 resources. Individual welfare 61 ['DCIUW', 'WTXUK', 'IQJPL', 'FLHLM']\n",
      "agent ag3  3 resources. Individual welfare 47 ['RFIRA', 'SNHWD', 'LKMYM']\n",
      "agent ag4  0 resources. Individual welfare 0 []\n"
     ]
    }
   ],
   "source": [
    "# on réinitialise les bags\n",
    "for a in agentList :\n",
    "        a.bag=[]\n",
    "\n",
    "# on affecte les ressources 1 par 1 à l'agent qui la valorise le mieux               \n",
    "for r in ressources :\n",
    "        index = np.argmax([a.fUtil.get(r)  for a in agentList])\n",
    "        ag = agentList[index]\n",
    "        ag.bag.append(r)\n",
    "\n",
    "# On fait la somme des évaluation\n",
    "s = sum([a.welfare() for a in agentList])\n",
    "\n",
    "print(\"Utilitaire. Valeur optimale : \", s ,\" obtenue avec les affectations \")\n",
    "for a in agentList :\n",
    "        print(a, a.bag)   "
   ]
  },
  {
   "cell_type": "markdown",
   "metadata": {},
   "source": [
    "##### Solution optimale pour les bien-êtres égalitaires ou nash\n",
    "Cette fois il n'y a pas de solution simple, même pour une \"main invisible\". Il faudrait tester toutes les allocations possibles. Avec `n` agents et `r` ressources il existe `n^r` affectations possibles (si on a 10 agents et 100 ressources cela fait 10^100 tests, ce qui est hors de portée des ordinateurs actuels).\n",
    "On peut alors éventuellement utiliser des méthodes approximatives type _Monte-Carlo_ ou _Algorithme génétique_, mais rien ne garantit l'optimalité du résultat.\n",
    "\n",
    "Ci-dessous une méthode de _Monte-Carlo_ pour le bien-être de Nash ..."
   ]
  },
  {
   "cell_type": "code",
   "execution_count": 12,
   "metadata": {},
   "outputs": [
    {
     "name": "stdout",
     "output_type": "stream",
     "text": [
      "Meilleure allocation 17971200 {'ag0': ['WTXUK', 'MUWNO'], 'ag1': ['IQJPL', 'NUUJQ'], 'ag2': ['DCIUW', 'FLHLM'], 'ag3': ['UUCAD', 'LKMYM'], 'ag4': ['RFIRA', 'SNHWD']}\n"
     ]
    }
   ],
   "source": [
    "bestWelfare=-1\n",
    "bestAlloc=[]\n",
    "for i in range(100000):\n",
    "    # on réinitialise les bags\n",
    "    for a in agentList :\n",
    "        a.bag=[]\n",
    "    # on affecte les ressources au hasard\n",
    "    for r in ressources :\n",
    "        a = random.choice(agentList)\n",
    "        a.bag.append(r)\n",
    "    # On compare le résultat à la meilleure situation connue\n",
    "    p = np.prod([a.welfare() for a in agentList])  # sum,prod,min,max\n",
    "    if (p > bestWelfare):\n",
    "        bestWelfare=p\n",
    "        bestAlloc = {a.name:a.bag for a in agentList}\n",
    "        \n",
    "print(\"Meilleure allocation\",bestWelfare,bestAlloc)"
   ]
  },
  {
   "cell_type": "markdown",
   "metadata": {},
   "source": [
    "... ainsi qu'une méthode basée sur les permutations de ressources, puisque l'on sait dès le départ que pour Nash il est préférable d'équilibrer les ressources entre les agents."
   ]
  },
  {
   "cell_type": "code",
   "execution_count": 13,
   "metadata": {},
   "outputs": [
    {
     "name": "stdout",
     "output_type": "stream",
     "text": [
      "Meilleure allocation 22239360 {'ag0': array(['UUCAD', 'NUUJQ'], dtype='<U5'), 'ag1': array(['MUWNO', 'IQJPL'], dtype='<U5'), 'ag2': array(['FLHLM', 'WTXUK'], dtype='<U5'), 'ag3': array(['SNHWD', 'LKMYM'], dtype='<U5'), 'ag4': array(['DCIUW', 'RFIRA'], dtype='<U5')}\n"
     ]
    }
   ],
   "source": [
    "bestWelfare=-1\n",
    "bestAlloc=[]\n",
    "for i in range(100000):\n",
    "    # on réinitialise les bags\n",
    "    for a in agentList :\n",
    "        a.bag=[]\n",
    "    # on découpe les ressources en paquets égaux\n",
    "    random.shuffle(ressources)\n",
    "    distrib = np.array_split(ressources, len(agentList))\n",
    "    for i in range(len(agentList)) :\n",
    "        agentList[i].bag = distrib[i]\n",
    "    # On compare le résultat à la meilleure situation connue\n",
    "    p = np.prod([a.welfare() for a in agentList])  # sum,prod,min,max\n",
    "    if (p > bestWelfare):\n",
    "        bestWelfare=p\n",
    "        bestAlloc = {a.name:a.bag for a in agentList}\n",
    "        \n",
    "print(\"Meilleure allocation\",bestWelfare,bestAlloc)"
   ]
  },
  {
   "cell_type": "markdown",
   "metadata": {},
   "source": [
    "On note ici la différence entre \"Individual-based system\" and \"agent-based system\". Jusqu'à présent il y avait bien des agents, chacun avec ses propres connaissances, mais aucun comportement. Il faut la \"main invisible\" pour résoudre le problème. La majorité du travail algorithmique se fait hors des agents. L'approche \"agent-based\" est une approche comportementale: tout se passe dans le comportement de l'agent, c'est l'agent qui décide ! Il n'y a plus de \"main invisible\". Seul un SMA, qui n'est là que pour le strict minimum : donner la parole aux agents.\n",
    "\n",
    "\n",
    "### Une approche multi-agents\n",
    "\n",
    "L'approche centralisée présente un certain nombre de défauts :\n",
    "- Avoir une affectation optimale par cette technique n'est pas toujours possible (voir ci-dessus). \n",
    "- Cette technique oblige tous les agents à indiquer à l'organe central de calcul toutes leurs utilités. La garantie d'une certaine privacité est pourtant parfois nécessaire\n",
    "- La \"main invisible\" ! L'approche centralisée prend difficilement en compte le fait que les agents ne se connaissent pas forcément tous. Dans la vraie vie, les connaissances des individus dessinent un graphe social \n",
    "\n",
    "\n",
    "Nous étudions par la suite une approche comportementale qui permet aux agents d'échanger des ressources pour améliorer le bien-être social. Chaque agent tour à tour peut effectuer certains échanges avec ces accointances fidèles à un type de réseau social. On peut alors voir peu à peu le bien-être social évoluer. L'important maintenant, n'est plus \"quel est l'optimum ?\", mais \"comment on arrive à l'optimum ?\".\n",
    "\n",
    "\n",
    "##### Tout d'abord réalisons le SMA, le réseau social et l'agent ... \n",
    "- Cette fois, c'est le SMA qui crée les agents, dans son constructeur.\n",
    "- Les agents sont initialement créés vides.\n",
    "- Des méthodes permettent d'affecter aux agents des accointances ou des ressources. Ceci permettra pas la suite de relancer le même SMA soit avec la même affectation de ressources, soit avec le même réseau social, soit les deux."
   ]
  },
  {
   "cell_type": "markdown",
   "metadata": {},
   "source": [
    "##### Le réseau social\n",
    "\n",
    "Comme dans [mas_basics]() on utilisera la librairie [networkx](https://networkx.org/) qui contient de nombreuses fonctions de création de graphes et permet de récupérer avec sa fonction `to_numpy_array` une matrice d'adjacence."
   ]
  },
  {
   "cell_type": "code",
   "execution_count": 18,
   "metadata": {},
   "outputs": [],
   "source": [
    "import networkx as nx\n",
    "\n",
    "nb_nodes = 20\n",
    "# graph = nx.barabasi_albert_graph(nb_nodes, 2)\n",
    "graph = nx.complete_graph(nb_nodes)\n",
    "#graph = nx.erdos_renyi_graph(nb_nodes,0.1)\n",
    "#graph = nx.cycle_graph(nb_nodes)\n",
    "#graph = nx.random_regular_graph(3,nb_nodes)\n",
    "matrix = nx.to_numpy_array(graph, nodelist=range(nb_nodes))"
   ]
  },
  {
   "cell_type": "markdown",
   "metadata": {},
   "source": [
    "Et pour la représentation graphique ..."
   ]
  },
  {
   "cell_type": "code",
   "execution_count": 21,
   "metadata": {},
   "outputs": [
    {
     "data": {
      "image/png": "[encoded data removed]",
      "text/plain": [
       "<Figure size 720x360 with 1 Axes>"
      ]
     },
     "metadata": {},
     "output_type": "display_data"
    }
   ],
   "source": [
    "import matplotlib.pyplot as plt\n",
    "\n",
    "plt.figure(figsize=(10,5))    # pour définir la taille de la figure\n",
    "nx.draw_networkx(graph)\n",
    "plt.axis('off')\n",
    "plt.show()"
   ]
  },
  {
   "cell_type": "markdown",
   "metadata": {},
   "source": [
    "#### L'agent et le SMA\n",
    "Pour créer un SMA on lui passe simplement le nombre d'agents souhaité. C'est le SMA qui crée les agents. Les methodes setRessources et setAccointances permettent respectivement d'affecter les agents avec une affectation des ressources aux agents sous forme d'une liste de listes, et une matrice d'adjacence sous forme d'une liste de listes (obtenue facilement à partir d'un graphe networkx).\n",
    "L'agent est initialement créé sans accointance ni ressource, mais il a déjà sa fonction d'utilité.\n",
    "Attention : recréer un SMA recrée aussi les fonctions d'utilité de chacun !\n",
    "\n",
    "De nombreux comportements peuvent être mis en place. Sur le nombre de participants à un échange (on en reste ici à 2 : négociation bi-latérale), sur le type d'échange autorisé (des dons, des swaps), ou sur l'ordre dans lequel on propose ces échanges. Même en se focalisant sur le swap il y a encore 3 grandes familles :\n",
    "- les irrationnels : ils échangent n'importe quoi avec n'importe qui, sans rien vérifier\n",
    "- les rationnels : l'échange ne se fait que si tous les deux y gagnent individuellement\n",
    "- les sociaux : l'échange ne se fait que si la société y gagne\n",
    "\n",
    "Par ailleurs, dans les trois cas précédents il est encore possible de s'y prendre de 2 manières différentes\n",
    "- Priorité à la ressource : on prend sa pire ressource et on cherche un ami avec qui on fera l'échange ; si on a fait le tour de ses amis sans succès, alors seulement on change de ressource. \n",
    "- Priorité à l'ami : on choisit un ami et on cherche une ressource à lui échanger ; si on a fait le tour de toutes les ressources sans succès avec cet ami, alors seulement on change d'ami.\n",
    "\n",
    "\n"
   ]
  },
  {
   "cell_type": "code",
   "execution_count": 65,
   "metadata": {},
   "outputs": [],
   "source": [
    "class SMA:\n",
    "    def __init__(self, nb_agents, welfare, behavior_kind , swap_kind):\n",
    "        self.agentList = [Agent(i, self, behavior_kind, swap_kind) for i in range(nb_agents)]\n",
    "        self.welfare_type=welfare\n",
    "        self.tick=0\n",
    "        self.history=[]\n",
    "    def __str__(self) :\n",
    "        s=\"\"\n",
    "        for i in range(len(self.agentList)):\n",
    "            s=s+(self.agentList[i].__str__()+\"\\n\")\n",
    "        s=s+(\"Social Welfare : \" + str(self.socialWelfare())) \n",
    "        return(s)   \n",
    "    def setRessources(self,init_affect) :\n",
    "        if (len(init_affect) != len(self.agentList)) :\n",
    "            raise ValueError(\"Problem of size in setRessources :\", len(init_affect), len(agentList))\n",
    "        for i in range(len(self.agentList)) :\n",
    "            self.agentList[i].bag=init_affect[i]\n",
    "\n",
    "    def setAccointances(self,adjacency_matrix) :\n",
    "        if (len(adjacency_matrix[0]) != len(self.agentList)) :\n",
    "            raise ValueError(\"Problem of size in setAccointances :\", len(adjacency_matrix[0]) , len(agentList))\n",
    "        for i in range(len(self.agentList)) :\n",
    "            self.agentList[i].accointances = np.nonzero(adjacency_matrix[i])[0]\n",
    "\n",
    "    def run(self, rounds):\n",
    "        self.tick=0\n",
    "        self.history=[]\n",
    "        self.history.append(self.socialWelfare())\n",
    "        for i in range(0,rounds):\n",
    "            self.runOnce()\n",
    "            self.history.append(self.socialWelfare())\n",
    "\n",
    "    def runOnce(self):\n",
    "        self.tick += 1\n",
    "        for agent in self.agentList:\n",
    "            agent.decide(self.tick)\n",
    "        print(\"tick \" + str(self.tick) + \" ended\")\n",
    "        print(\"Le Welfare actuel est de \", self.socialWelfare())\n",
    "\n",
    "    def socialWelfare(self):\n",
    "        if self.welfare_type=='Utilitarist':\n",
    "            return sum([a.welfare() for a in self.agentList])\n",
    "        elif self.welfare_type=='Egalitarist':\n",
    "            return min([a.welfare() for a in self.agentList])\n",
    "        elif self.welfare_type=='Elitist':\n",
    "            return max([a.welfare() for a in self.agentList])\n",
    "        elif self.welfare_type=='Nash':\n",
    "            return np.prod([a.welfare() for a in self.agentList])\n",
    "        else :\n",
    "            raise ValueError(\"Unknown method in socialWelfare\")\n",
    "\n",
    "\n",
    "\n",
    "# L'agent est le même que précédemment excepté qu'il a maintenant ses propres accointances, sa fonction d'Utilité\n",
    "# et une méthode de décision avec différents échanges possibles\n",
    "# Par défaut il n'a ni ressources ni accointances (c'est le SMA qui lui donne)\n",
    "class Agent:\n",
    "    def __init__(self, name, sma, behavior_kind, swap_kind) :\n",
    "        self.name=name\n",
    "        self.sma = sma\n",
    "        self.swap_kind = swap_kind\n",
    "        self.behavior_kind = behavior_kind\n",
    "        self.fUtil = {r : random.choice(valeurs) for r in ressources}\n",
    "        self.bag = []\n",
    "        self.accointances = []\n",
    "    def __str__(self) :\n",
    "        return \"agent \"+str(self.name)+\" Welfare :\"+ str(self.welfare())+\"\\tbag :\"+ str(self.bag)\n",
    "    def welfare(self):\n",
    "        return sum([self.fUtil.get(r) for r in self.bag])\n",
    "    def getSortedBag(self):\n",
    "        bagval = [ (r,self.fUtil.get(r)) for r in self.bag]\n",
    "        return [r for r,_ in sorted(bagval, key=lambda x: x[1])]\n",
    "\n",
    "    def gift(self):    \n",
    "        # choisir une accointance au hasard\n",
    "        friend = sma.agentList[np.random.choice(self.accointances)]\n",
    "        # choisir une de ses propres ressources au hasard\n",
    "        r = np.random.choice(self.bag)\n",
    "        # donner cette ressource à l'accointance\n",
    "        self.bag.remove(r)\n",
    "        friend.bag.append(r)\n",
    "        print(self.name, \"donne la ressource \",r,\" à l'agent \",friend.name)\n",
    "\n",
    "    # swap sans aucune contrainte\n",
    "    def swap1(self):\n",
    "        # choisir une accointance au hasard\n",
    "        friend = sma.agentList[np.random.choice(self.accointances)]\n",
    "        # choisir une de ses propres ressources au hasard\n",
    "        r = np.random.choice(self.bag)\n",
    "        # choisir une des ressources de l'autre au hasard\n",
    "        if len(friend.bag)==0 :\n",
    "            return\n",
    "        s = np.random.choice(friend.bag)\n",
    "        # echanger les ressources\n",
    "        self.bag.remove(r)\n",
    "        friend.bag.remove(s)\n",
    "        friend.bag.append(r)\n",
    "        self.bag.append(s)\n",
    "        print(self.name, \"echange \",r,\" contre \",s, \" avec \",friend.name)\n",
    "    \n",
    "    # swap uniquement si un welfare augmente (type=irrational or rational or social)\n",
    "    # PRIORITE RESSOURCE : o choisit une ressource et on teste tous les amis avec\n",
    "    def swap2(self) :\n",
    "        # chercher s'il existe 2 ressources à échanger\n",
    "        # on échange uniquement si le socialWelfare augmente\n",
    "        # je propose mes ressources par intérêt décroissant (donc valeur croissante)\n",
    "        for r in self.getSortedBag() :\n",
    "            for f in self.accointances :\n",
    "                friend = sma.agentList[f]\n",
    "                for s in  friend.bag :\n",
    "                    # on teste si c'est mieux pour les deux\n",
    "                    # UTILISER sma N'EST PAS TRES \"AGENT\" , NEANMOINS DES CRITERES LOCAUX EXISTENT\n",
    "                    actualSocialWelfare = self.sma.socialWelfare()\n",
    "                    actualMyWelfare = self.welfare()\n",
    "                    actualFriendWelfare = friend.welfare()\n",
    "                    self.bag.remove(r)\n",
    "                    friend.bag.remove(s)\n",
    "                    friend.bag.append(r)\n",
    "                    self.bag.append(s)\n",
    "                    # For irrational (equiv to swap1 ; swap1 is a simplified version)\n",
    "                    if self.swap_kind=='irrational' :\n",
    "                        return\n",
    "                    # For rational welfare\n",
    "                    if self.swap_kind=='rational' and self.welfare() > actualMyWelfare and friend.welfare() > actualFriendWelfare :\n",
    "                        print(self.name, \"echange \",r,\" contre \",s, \" avec \",friend.name)\n",
    "                        print(self.swap_kind +\" : Welfare passe de \",actualSocialWelfare,\" à \", self.sma.socialWelfare())\n",
    "                        #self.sma.history.append(self.sma.socialWelfare())\n",
    "                        return                       \n",
    "                    # For social welfare\n",
    "                    if self.swap_kind=='social' and self.sma.socialWelfare() > actualSocialWelfare :\n",
    "                        print(self.name, \"echange \",r,\" contre \",s, \" avec \",friend.name)\n",
    "                        print(self.swap_kind + \" : Welfare passe de \",actualSocialWelfare,\" à \", self.sma.socialWelfare())\n",
    "                        #self.sma.history.append(sma.socialWelfare())\n",
    "                        return\n",
    "                    # Si les IF ne fonctionnent pas, on remet tout en place\n",
    "                    self.bag.remove(s)\n",
    "                    friend.bag.remove(r)\n",
    "                    friend.bag.append(s)\n",
    "                    self.bag.append(r)\n",
    "    \n",
    "\n",
    "    def decide(self,tick):\n",
    "        # pour faire qq chose il faut au moins avoir des ressources et des amis\n",
    "        if (len(self.accointances)==0 or len(self.bag)==0) :\n",
    "            return\n",
    "        # s'écrit avec match-case à partir de python 3.10\n",
    "        if   self.behavior_kind==0 : self.gift()\n",
    "        elif self.behavior_kind==1 : self.swap1()\n",
    "        elif self.behavior_kind==2 : self.swap2()\n",
    "        else : \n",
    "            raise ValueError(\"Impossible behavior in decide\")\n",
    "                "
   ]
  },
  {
   "cell_type": "markdown",
   "metadata": {},
   "source": [
    "#### Une expérience\n",
    "\n"
   ]
  },
  {
   "cell_type": "code",
   "execution_count": 66,
   "metadata": {},
   "outputs": [
    {
     "name": "stdout",
     "output_type": "stream",
     "text": [
      "agent 0 Welfare :21\tbag :['UUCAD', 'LKMYM']\n",
      "agent 1 Welfare :24\tbag :['MUWNO', 'WTXUK']\n",
      "agent 2 Welfare :3\tbag :['SNHWD']\n",
      "agent 3 Welfare :6\tbag :['IQJPL']\n",
      "agent 4 Welfare :33\tbag :['FLHLM', 'DCIUW', 'RFIRA', 'NUUJQ']\n",
      "Social Welfare : 87\n",
      "0 echange  UUCAD  contre  WTXUK  avec  1\n",
      "1 echange  MUWNO  contre  SNHWD  avec  2\n",
      "2 echange  MUWNO  contre  NUUJQ  avec  4\n",
      "3 echange  IQJPL  contre  DCIUW  avec  4\n",
      "4 echange  RFIRA  contre  LKMYM  avec  0\n",
      "tick 1 ended\n",
      "Le Welfare actuel est de  74\n",
      "0 echange  RFIRA  contre  FLHLM  avec  4\n",
      "1 echange  SNHWD  contre  WTXUK  avec  0\n",
      "2 echange  NUUJQ  contre  SNHWD  avec  0\n",
      "3 echange  DCIUW  contre  FLHLM  avec  0\n",
      "4 echange  RFIRA  contre  SNHWD  avec  2\n",
      "tick 2 ended\n",
      "Le Welfare actuel est de  106\n",
      "0 echange  NUUJQ  contre  FLHLM  avec  3\n",
      "1 echange  UUCAD  contre  RFIRA  avec  2\n",
      "2 echange  UUCAD  contre  FLHLM  avec  0\n",
      "3 echange  NUUJQ  contre  SNHWD  avec  4\n",
      "4 echange  IQJPL  contre  WTXUK  avec  1\n",
      "tick 3 ended\n",
      "Le Welfare actuel est de  101\n",
      "0 echange  DCIUW  contre  SNHWD  avec  3\n",
      "1 echange  RFIRA  contre  UUCAD  avec  0\n",
      "2 echange  FLHLM  contre  LKMYM  avec  4\n",
      "3 echange  DCIUW  contre  NUUJQ  avec  4\n",
      "4 echange  MUWNO  contre  LKMYM  avec  2\n",
      "tick 4 ended\n",
      "Le Welfare actuel est de  99\n",
      "0 echange  RFIRA  contre  MUWNO  avec  2\n",
      "1 echange  IQJPL  contre  SNHWD  avec  0\n",
      "2 echange  RFIRA  contre  MUWNO  avec  0\n",
      "3 echange  NUUJQ  contre  LKMYM  avec  4\n",
      "4 echange  NUUJQ  contre  MUWNO  avec  2\n",
      "tick 5 ended\n",
      "Le Welfare actuel est de  64\n",
      "0 echange  RFIRA  contre  NUUJQ  avec  2\n",
      "1 echange  SNHWD  contre  LKMYM  avec  3\n",
      "2 echange  RFIRA  contre  NUUJQ  avec  0\n",
      "3 echange  SNHWD  contre  RFIRA  avec  0\n",
      "4 echange  FLHLM  contre  RFIRA  avec  3\n",
      "tick 6 ended\n",
      "Le Welfare actuel est de  87\n",
      "0 echange  IQJPL  contre  NUUJQ  avec  2\n",
      "1 echange  LKMYM  contre  FLHLM  avec  3\n",
      "2 echange  IQJPL  contre  LKMYM  avec  3\n",
      "3 echange  IQJPL  contre  MUWNO  avec  4\n",
      "4 echange  IQJPL  contre  MUWNO  avec  3\n",
      "tick 7 ended\n",
      "Le Welfare actuel est de  86\n",
      "0 echange  SNHWD  contre  IQJPL  avec  3\n",
      "1 echange  UUCAD  contre  LKMYM  avec  2\n",
      "2 echange  UUCAD  contre  MUWNO  avec  4\n",
      "3 echange  SNHWD  contre  IQJPL  avec  0\n",
      "4 echange  UUCAD  contre  SNHWD  avec  0\n",
      "tick 8 ended\n",
      "Le Welfare actuel est de  78\n",
      "0 echange  NUUJQ  contre  FLHLM  avec  1\n",
      "1 echange  NUUJQ  contre  SNHWD  avec  4\n",
      "2 echange  MUWNO  contre  UUCAD  avec  0\n",
      "3 echange  IQJPL  contre  NUUJQ  avec  4\n",
      "4 echange  WTXUK  contre  FLHLM  avec  0\n",
      "tick 9 ended\n",
      "Le Welfare actuel est de  89\n",
      "0 echange  WTXUK  contre  FLHLM  avec  4\n",
      "1 echange  SNHWD  contre  MUWNO  avec  0\n",
      "2 echange  UUCAD  contre  IQJPL  avec  4\n",
      "3 echange  NUUJQ  contre  IQJPL  avec  2\n",
      "4 echange  RFIRA  contre  NUUJQ  avec  2\n",
      "tick 10 ended\n",
      "Le Welfare actuel est de  84\n",
      "Final Social Welfare :  84\n",
      "Best Social Welfare :  106\n",
      "agent 0 Welfare :31\tbag :['FLHLM', 'SNHWD']\n",
      "agent 1 Welfare :19\tbag :['LKMYM', 'MUWNO']\n",
      "agent 2 Welfare :12\tbag :['RFIRA']\n",
      "agent 3 Welfare :6\tbag :['IQJPL']\n",
      "agent 4 Welfare :16\tbag :['DCIUW', 'WTXUK', 'UUCAD', 'NUUJQ']\n",
      "Social Welfare : 84\n"
     ]
    }
   ],
   "source": [
    "nb_agents=5\n",
    "# une affectation aléatoire\n",
    "l=[[] for i in range(nb_agents)]\n",
    "for r in ressources :\n",
    "    l[random.randrange(nb_agents)].append(r)\n",
    "\n",
    "# choix du graphe social\n",
    "#graph = nx.erdos_renyi_graph(nb_agents,0.1)\n",
    "graph = nx.complete_graph(nb_nodes)\n",
    "m = nx.to_numpy_array(graph, nodelist=range(nb_agents))\n",
    "\n",
    "# L'experience\n",
    "sma = SMA(nb_agents, welfare='Utilitarist', behavior_kind=1, swap_kind='social')\n",
    "sma.setAccointances(m)\n",
    "sma.setRessources(l)\n",
    "print(sma)\n",
    "sma.run(10)\n",
    "\n",
    "print(\"Final Social Welfare : \", sma.socialWelfare())\n",
    "print(\"Best Social Welfare : \", max(sma.history))\n",
    "print(sma)"
   ]
  },
  {
   "cell_type": "markdown",
   "metadata": {},
   "source": [
    "#### Tracé de l'évolution du social welfare\n",
    "Une fois l'expérience réalisée, il est alors possible de tracer l'évolution du social Welfare"
   ]
  },
  {
   "cell_type": "code",
   "execution_count": 67,
   "metadata": {},
   "outputs": [
    {
     "name": "stdout",
     "output_type": "stream",
     "text": [
      "[87, 74, 106, 101, 99, 64, 87, 86, 78, 89, 84]\n"
     ]
    },
    {
     "data": {
      "image/png": "[encoded data removed]",
      "text/plain": [
       "<Figure size 432x288 with 1 Axes>"
      ]
     },
     "metadata": {
      "needs_background": "light"
     },
     "output_type": "display_data"
    }
   ],
   "source": [
    "print(sma.history)\n",
    "plt.plot(sma.history, \"-o\")\n",
    "plt.grid()"
   ]
  },
  {
   "cell_type": "markdown",
   "metadata": {},
   "source": [
    "On peut bien sûr comparer les comportements en jouant sur les paramètres `behavior_kind` et/ou `swap_kind`. Afin de s'assurer que l'on utilise exactement les mêmes afgfectations d'amis et de ressources, on clone le sma à chaque tour.\n",
    "On prendra garde à la constitution des points de la courbe : si on loggue l'évolution du welfare à chaque changement, il n'y aura pas les mêmes valeurs collectées; pour assurer le même nombre de valeurs et donc des courbes comparables, on ne loggue qu'à chaque fin de tick"
   ]
  },
  {
   "cell_type": "code",
   "execution_count": 69,
   "metadata": {},
   "outputs": [
    {
     "name": "stdout",
     "output_type": "stream",
     "text": [
      "tick 1 ended\n",
      "Le Welfare actuel est de  120\n",
      "tick 2 ended\n",
      "Le Welfare actuel est de  105\n",
      "tick 3 ended\n",
      "Le Welfare actuel est de  124\n",
      "tick 4 ended\n",
      "Le Welfare actuel est de  126\n",
      "tick 5 ended\n",
      "Le Welfare actuel est de  119\n",
      "tick 6 ended\n",
      "Le Welfare actuel est de  114\n",
      "tick 7 ended\n",
      "Le Welfare actuel est de  116\n",
      "tick 8 ended\n",
      "Le Welfare actuel est de  124\n",
      "tick 9 ended\n",
      "Le Welfare actuel est de  121\n",
      "tick 10 ended\n",
      "Le Welfare actuel est de  124\n",
      "tick 11 ended\n",
      "Le Welfare actuel est de  114\n",
      "tick 12 ended\n",
      "Le Welfare actuel est de  111\n",
      "tick 13 ended\n",
      "Le Welfare actuel est de  129\n",
      "tick 14 ended\n",
      "Le Welfare actuel est de  121\n",
      "tick 15 ended\n",
      "Le Welfare actuel est de  119\n",
      "tick 16 ended\n",
      "Le Welfare actuel est de  119\n",
      "tick 17 ended\n",
      "Le Welfare actuel est de  111\n",
      "tick 18 ended\n",
      "Le Welfare actuel est de  124\n",
      "tick 19 ended\n",
      "Le Welfare actuel est de  126\n",
      "tick 20 ended\n",
      "Le Welfare actuel est de  119\n",
      "1 echange  DCIUW  contre  FLHLM  avec  4\n",
      "rational : Welfare passe de  80  à  93\n",
      "2 echange  RFIRA  contre  WTXUK  avec  1\n",
      "rational : Welfare passe de  93  à  104\n",
      "3 echange  MUWNO  contre  RFIRA  avec  2\n",
      "rational : Welfare passe de  104  à  115\n",
      "tick 1 ended\n",
      "Le Welfare actuel est de  115\n",
      "tick 2 ended\n",
      "Le Welfare actuel est de  115\n",
      "tick 3 ended\n",
      "Le Welfare actuel est de  115\n",
      "tick 4 ended\n",
      "Le Welfare actuel est de  115\n",
      "tick 5 ended\n",
      "Le Welfare actuel est de  115\n",
      "tick 6 ended\n",
      "Le Welfare actuel est de  115\n",
      "tick 7 ended\n",
      "Le Welfare actuel est de  115\n",
      "tick 8 ended\n",
      "Le Welfare actuel est de  115\n",
      "tick 9 ended\n",
      "Le Welfare actuel est de  115\n",
      "tick 10 ended\n",
      "Le Welfare actuel est de  115\n",
      "tick 11 ended\n",
      "Le Welfare actuel est de  115\n",
      "tick 12 ended\n",
      "Le Welfare actuel est de  115\n",
      "tick 13 ended\n",
      "Le Welfare actuel est de  115\n",
      "tick 14 ended\n",
      "Le Welfare actuel est de  115\n",
      "tick 15 ended\n",
      "Le Welfare actuel est de  115\n",
      "tick 16 ended\n",
      "Le Welfare actuel est de  115\n",
      "tick 17 ended\n",
      "Le Welfare actuel est de  115\n",
      "tick 18 ended\n",
      "Le Welfare actuel est de  115\n",
      "tick 19 ended\n",
      "Le Welfare actuel est de  115\n",
      "tick 20 ended\n",
      "Le Welfare actuel est de  115\n",
      "1 echange  DCIUW  contre  WTXUK  avec  2\n",
      "social : Welfare passe de  93  à  96\n",
      "2 echange  MUWNO  contre  DCIUW  avec  3\n",
      "social : Welfare passe de  96  à  98\n",
      "3 echange  MUWNO  contre  DCIUW  avec  1\n",
      "social : Welfare passe de  98  à  99\n",
      "tick 1 ended\n",
      "Le Welfare actuel est de  99\n",
      "1 echange  WTXUK  contre  SNHWD  avec  4\n",
      "social : Welfare passe de  99  à  109\n",
      "3 echange  DCIUW  contre  RFIRA  avec  1\n",
      "social : Welfare passe de  109  à  119\n",
      "tick 2 ended\n",
      "Le Welfare actuel est de  119\n",
      "1 echange  SNHWD  contre  UUCAD  avec  4\n",
      "social : Welfare passe de  119  à  120\n",
      "2 echange  DCIUW  contre  WTXUK  avec  4\n",
      "social : Welfare passe de  120  à  122\n",
      "3 echange  DCIUW  contre  SNHWD  avec  4\n",
      "social : Welfare passe de  122  à  130\n",
      "tick 3 ended\n",
      "Le Welfare actuel est de  130\n",
      "tick 4 ended\n",
      "Le Welfare actuel est de  130\n",
      "tick 5 ended\n",
      "Le Welfare actuel est de  130\n",
      "tick 6 ended\n",
      "Le Welfare actuel est de  130\n",
      "tick 7 ended\n",
      "Le Welfare actuel est de  130\n",
      "tick 8 ended\n",
      "Le Welfare actuel est de  130\n",
      "tick 9 ended\n",
      "Le Welfare actuel est de  130\n",
      "tick 10 ended\n",
      "Le Welfare actuel est de  130\n",
      "tick 11 ended\n",
      "Le Welfare actuel est de  130\n",
      "tick 12 ended\n",
      "Le Welfare actuel est de  130\n",
      "tick 13 ended\n",
      "Le Welfare actuel est de  130\n",
      "tick 14 ended\n",
      "Le Welfare actuel est de  130\n",
      "tick 15 ended\n",
      "Le Welfare actuel est de  130\n",
      "tick 16 ended\n",
      "Le Welfare actuel est de  130\n",
      "tick 17 ended\n",
      "Le Welfare actuel est de  130\n",
      "tick 18 ended\n",
      "Le Welfare actuel est de  130\n",
      "tick 19 ended\n",
      "Le Welfare actuel est de  130\n",
      "tick 20 ended\n",
      "Le Welfare actuel est de  130\n"
     ]
    }
   ],
   "source": [
    "nb_agents=5\n",
    "# une affectation aléatoire\n",
    "l=[[] for i in range(nb_agents)]\n",
    "for r in ressources :\n",
    "    l[random.randrange(nb_agents)].append(r)\n",
    "\n",
    "# choix du graphe social\n",
    "#graph = nx.erdos_renyi_graph(nb_agents,0.1)\n",
    "graph = nx.complete_graph(nb_nodes)\n",
    "m = nx.to_numpy_array(graph, nodelist=range(nb_agents))\n",
    "\n",
    "# L'experience\n",
    "sma = SMA(nb_agents, welfare='Utilitarist', behavior_kind=2, swap_kind='social')\n",
    "sma.setAccointances(m)\n",
    "sma.setRessources(l)\n",
    "data=pd.DataFrame()\n",
    "for kind in ['irrational','rational','social'] :\n",
    "    # We work on a copy\n",
    "    sma2 = copy.deepcopy(sma)\n",
    "    for a in sma2.agentList:\n",
    "        a.behavior_kind=2\n",
    "        a.swap_kind = kind  \n",
    "    sma2.run(20)\n",
    "    data[kind]=sma2.history"
   ]
  },
  {
   "cell_type": "code",
   "execution_count": 71,
   "metadata": {},
   "outputs": [
    {
     "data": {
      "text/plain": [
       "<AxesSubplot:>"
      ]
     },
     "execution_count": 71,
     "metadata": {},
     "output_type": "execute_result"
    },
    {
     "data": {
      "image/png": "[encoded data removed]",
      "text/plain": [
       "<Figure size 432x288 with 1 Axes>"
      ]
     },
     "metadata": {
      "needs_background": "light"
     },
     "output_type": "display_data"
    }
   ],
   "source": [
    "# print(data)\n",
    "data.plot()"
   ]
  },
  {
   "cell_type": "markdown",
   "metadata": {},
   "source": [
    "#### N expériences\n",
    "Comme le hasard intervient dans chaque expérience (distribution initiale des ressources, graphe s'il n'est pas complet), il est important de pouvoir répérer les mesures afin de moyenner les résultats. \n",
    "\n",
    "On montre ici comment calculer 100 expériences d'un graphe Erdos-Renyi avec un bien-être social Utilitaire pour 5 agents et 20 ressources. On change les affectations initiales de ressources mais pas le graphe, les maximums sont donc comparables."
   ]
  },
  {
   "cell_type": "code",
   "execution_count": null,
   "metadata": {},
   "outputs": [],
   "source": [
    "import random\n",
    "import numpy as np\n",
    "import string\n",
    "import functools\n",
    "import networkx as nx\n",
    "\n",
    "\n",
    "def genere_nom():\n",
    "    return ''.join(random.choice(string.ascii_uppercase) for _ in range(5))\n",
    "\n",
    "\n",
    "nb_resources = 20\n",
    "ressources = [genere_nom() for _ in range(nb_resources)]\n",
    "valeurs = list(range(1,20))\n",
    "nb_agents = 5 \n",
    "\n",
    "# une nouvelle matrice d'adjacence\n",
    "graph = nx.erdos_renyi_graph(nb_agents,0.1)\n",
    "m = nx.to_numpy_array(graph, nodelist=range(nb_agents))\n",
    "\n",
    "result=[]\n",
    "sma = SMA(nb_agents)\n",
    "sma.welfare_type='Nash'\n",
    "for i in range(100):\n",
    "    # Affectation initiale aléatoire\n",
    "    l=[[] for i in range(nb_agents)]\n",
    "    for r in ressources :\n",
    "        l[random.randrange(nb_agents)].append(r)\n",
    "\n",
    "    # une experience : SURTOUT NE PAS RECREER LE SMA\n",
    "    sma.setAccointances(m)\n",
    "    sma.setRessources(l)\n",
    "    sma.run(100)\n",
    "    result.append(max(sma.history))\n",
    "\n",
    "# ATTENTION : 1mn de calcul\n",
    "print(result)\n",
    "print(\"Maximum obtenu : \", max(result), \"En moyenne : \",np.mean(result))\n",
    "\n"
   ]
  },
  {
   "cell_type": "markdown",
   "metadata": {},
   "source": [
    "On montre maintenant comment calculer 100 expériences d'un graphe Erdos-Renyi avec un bien-être social Egalitaire pour 5 agents et 20 ressources. A chaque experience on change le graphe mais pas les affectations initiales de ressources. Les maximums ne sont pas comparables entre eux."
   ]
  },
  {
   "cell_type": "code",
   "execution_count": null,
   "metadata": {},
   "outputs": [],
   "source": [
    "nb_resources = 20\n",
    "ressources = [genere_nom() for _ in range(nb_resources)]\n",
    "valeurs = list(range(1,20))\n",
    "nb_agents = 5 \n",
    "\n",
    "# Affectation initiale aléatoire\n",
    "l=[[] for i in range(nb_agents)]\n",
    "for r in ressources :\n",
    "    l[random.randrange(nb_agents)].append(r)\n",
    "\n",
    "result=[]\n",
    "sma = SMA(nb_agents)\n",
    "sma.welfare_type='Nash'\n",
    "for i in range(100):\n",
    "    # une nouvelle matrice d'adjacence\n",
    "    graph = nx.erdos_renyi_graph(nb_agents,0.1)\n",
    "    m = nx.to_numpy_array(graph, nodelist=range(nb_agents))\n",
    "    # une experience : SURTOUT NE PAS RECREER LE SMA\n",
    "    sma.setAccointances(m)\n",
    "    sma.setRessources(l)\n",
    "    sma.run(100)\n",
    "    result.append(max(sma.history))\n",
    "\n",
    "# ATTENTION : 1mn de calcul\n",
    "print(result)\n",
    "print(\"Maximum obtenu : \", max(result), \"En moyenne : \",np.mean(result))"
   ]
  },
  {
   "cell_type": "markdown",
   "metadata": {},
   "source": [
    "# Exercices\n",
    "### Exercices faciles\n",
    "\n",
    "Maintenant que les choses sont en place, il est possible de jouer sur de nombreux paramètres\n",
    "1. le type de comportement utilisé (1). \n",
    "    - Actuellement l'agent précédent est un agent rationnel : il accepte un échange si son bien-être individuel augmente. \n",
    "      Que donnent les résultats si il devient social, c'est à dire qu'il n'accepte un échange que si le bien être social augmente ? \n",
    "      (Attention : Ceci necessite de trouver un critère entre les deux agents permettant d'être certain que le niveau de la société augmente \n",
    "      (trivial pour Egalitarist ou Elitist) )  \n",
    "1. le type de comportement utilisé (2). \n",
    "    - Actuellement l'agent précédent teste un échange en priorité \"ressources\" (je choisis une ressource et j'essaye d'échanger \n",
    "      cette ressource avec tous les amis avant de changer de ressource). Que donne le contraire ?\n",
    "\n",
    "### Exercices plus difficiles    \n",
    "1. le bien-être social étudié\n",
    "    - Précédemment, nous avons présenté 4 mesures de bien-être social. Que donne le Leximin ? Le leximin consiste à maximiser dans l'ordre lexicographique les vecteurs des utilités de chaque agent classées du min au max\n",
    "1. le type de graphe\n",
    "    - Est-ce que des phénomènes spécifiques se produisent selon la forme du graphe ou le taux de connectivité moyen ?\n",
    "1. le type d'échange accepté\n",
    "    - Actuellement il n'y a que des échanges de taille 0 ou 1. Qu'est-ce que cela change d'accepter des échanges de 2 ou 3 ressources en même temps ?\n",
    "1. Les agents sont pour l'instant tous homogènes. Ils appliquent tous le même comportement. Qu'est-ce que ça donne si la population est hétérogène ?\n",
    "\n"
   ]
  },
  {
   "cell_type": "markdown",
   "metadata": {},
   "source": [
    "# Bibliographie\n",
    "- Moulin, H. (2004). Fair division and collective welfare. MIT press.\n",
    "- Chevaleyre Y, Endriss U, Lang J, Maudet N (2005) Negotiating over small bundles of resources. In: AAMAS’05, pp 296–302\n",
    "- Nongaillard, A., & Mathieu, P. (2014). Agent-based reallocation problem on social networks. Group Decision and Negotiation, 23(5), 1067-1083.\n",
    "- Delahaye, J. P., & Mathieu, P. (2009). La répartition idéale des biens existe-t-elle?. Pour la science, 381, 88-93.\n",
    "- Ferber J. (1995). Systèmes Multi-Agents, vers une intelligence collective. InterEditions. [en ligne ici](http://www.lirmm.fr/~ferber/publications/LesSMA_Ferber.pdf)"
   ]
  },
  {
   "cell_type": "code",
   "execution_count": null,
   "metadata": {},
   "outputs": [],
   "source": [
    "print('Leximin Social Welfare\\t\\t', sorted([a.welfare() for a in agentList]) )\n",
    " \n",
    "# 1 if a<b ; -1 if b<a ; 0 if a==b\n",
    "def leximin(a,b) :\n",
    "    for i in range(len(a)) :\n",
    "        if (a[i]>b[i]) :\n",
    "           return 1\n",
    "        elif (a[i]<b[i]) :\n",
    "           return -1\n",
    "    return 0\n",
    "\n",
    "x=np.array([1,2,3,4])\n",
    "y=np.array([1,1,3,4])\n",
    "leximin(x,y) "
   ]
  }
 ],
 "metadata": {
  "interpreter": {
   "hash": "40d3a090f54c6569ab1632332b64b2c03c39dcf918b08424e98f38b5ae0af88f"
  },
  "kernelspec": {
   "display_name": "Python 3.8.5 64-bit ('base': conda)",
   "language": "python",
   "name": "python3"
  },
  "language_info": {
   "codemirror_mode": {
    "name": "ipython",
    "version": 3
   },
   "file_extension": ".py",
   "mimetype": "text/x-python",
   "name": "python",
   "nbconvert_exporter": "python",
   "pygments_lexer": "ipython3",
   "version": "3.8.12"
  },
  "orig_nbformat": 4
 },
 "nbformat": 4,
 "nbformat_minor": 2
}
