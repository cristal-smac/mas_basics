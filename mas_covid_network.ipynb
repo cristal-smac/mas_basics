{
 "cells": [
  {
   "cell_type": "markdown",
   "metadata": {},
   "source": [
    "# Modélisation de la propagation de l'épidémie du Covid : Simulation multi-agents"
   ]
  },
  {
   "cell_type": "markdown",
   "metadata": {},
   "source": [
    "Auteur : Maxime Gatineau, Élève Ingénieur de l'[École Centrale de Lille](https://ecole.centralelille.fr/) <br/>\n",
    "Tuteur : Philippe Mathieu, [CRIStAL Lab](https://www.cristal.univ-lille.fr/), [SMAC Team](https://www.cristal.univ-lille.fr/gt/i2c/) <br/>\n",
    "Création : Septembre 2020"
   ]
  },
  {
   "cell_type": "markdown",
   "metadata": {},
   "source": [
    "### Objectifs"
   ]
  },
  {
   "cell_type": "markdown",
   "metadata": {},
   "source": [
    "Nous souhaitons modéliser à l’échelle microscopique l’évolution de l’épidémie du covid en France. <br/>\n",
    "Notre but est de pouvoir faire des prévisions à court termes sur la propagation de l'épidémie et de sortir les paramètres qui impactent la force et la vitesse de la propagation."
   ]
  },
  {
   "cell_type": "markdown",
   "metadata": {},
   "source": [
    "### Principes"
   ]
  },
  {
   "cell_type": "markdown",
   "metadata": {},
   "source": [
    "Un système multi-agents est un système dans lequel des entités dotées de leur propre comportement, intéragissent entre-elles. <br/>\n",
    "Nos agents doivent représenter la population française, ils auront différentes caractéristiques, par exemple l'âge et le sexe. <br/>\n",
    "Les agents seront reliés entre eux selon un modèle de Barabási-Albert, qui génére aléatoirement un réseau invariant d'échelle et qui permet de représenter un réseau social pour des interactions humaines. <br/>\n",
    "Ensuite, sur un principe de tour de parole, nous allons interroger chaque agents, regarder leurs connexions et dire s'ils peuvent être contaminés par les agents qui les entourent. <br/>\n",
    "Enfin, l'utilisation d'un algorithme génétique permettra d'accorder les paramètres avec les données que nous avons en France."
   ]
  },
  {
   "cell_type": "markdown",
   "metadata": {},
   "source": [
    "### Table des matières <a class=\"anchor\" id=\"tdm\"></a>"
   ]
  },
  {
   "cell_type": "markdown",
   "metadata": {},
   "source": [
    "* [Chapitre 1 : Simulation](#c1)\n",
    "    * [Partie 1 : Caractéristiques de la population française](#c1-p1)\n",
    "    * [Partie 2 : Simulation multi-agents](#c1-p2)\n",
    "    * [Partie 3 : Facteurs de contagion](#c1-p3)\n",
    "    * [Partie 4 : Simulation avec une contagion aléatoire](#c1-p4)\n",
    "* [Chapitre 2 : Graphes](#c2)\n",
    "    * [Partie 1 : Graphe de l'évolution du Covid en France](#c2-p1)\n",
    "    * [Partie 2 : Répartion de la population française](#c2-p2)\n",
    "    * [Partie 3 : Création d'une animation sur notre graphe social](#c2-p3)\n",
    "* [Sources](#s)"
   ]
  },
  {
   "cell_type": "markdown",
   "metadata": {},
   "source": [
    "### Librairies :"
   ]
  },
  {
   "cell_type": "code",
   "execution_count": 1,
   "metadata": {},
   "outputs": [],
   "source": [
    "import numpy as np\n",
    "import csv \n",
    "import random\n",
    "import pandas as pd\n",
    "import networkx as nx\n",
    "import matplotlib.pyplot as plt\n",
    "import sys\n",
    "import time \n",
    "import glob\n",
    "from datetime import date\n",
    "from PIL import Image\n",
    "import os"
   ]
  },
  {
   "cell_type": "markdown",
   "metadata": {},
   "source": [
    "## Chapitre 1 : Simulation <a class=\"anchor\" id=\"c1\"></a>"
   ]
  },
  {
   "cell_type": "markdown",
   "metadata": {},
   "source": [
    "### Partie 1 : Caractéristiques de la population française <a class=\"anchor\" id=\"c1-p1\"></a>"
   ]
  },
  {
   "cell_type": "markdown",
   "metadata": {},
   "source": [
    "Explications : "
   ]
  },
  {
   "cell_type": "markdown",
   "metadata": {},
   "source": [
    "[Table des matières](#tdm)"
   ]
  },
  {
   "cell_type": "markdown",
   "metadata": {},
   "source": [
    "Pour notre étude, les paramètres se basent sur les sources et s'implémentent de la manière suivante : \n",
    "* Pour l'âge : \n",
    "     * 0 = < 15 ans\n",
    "     * 1 = entre 15 et 30 ans\n",
    "     * 2 = entre 30 et 55 ans\n",
    "     * 3 = > 55 ans\n",
    "     \n",
    "     \n",
    "* Pour le sexe :\n",
    "    * 0 = homme\n",
    "    * 1 = femme\n",
    "\n",
    "\n",
    "* Pour le poids :\n",
    "    * 0 = Dénutrition (IMC < 18.5)\n",
    "    * 1 = Normal (18.5 > IMC > 25)\n",
    "    * 2 = Surpoids (25 > IMC > 30)\n",
    "    * 3 = Obésité (IMC > 30)\n",
    "\n",
    "\n",
    "* Pour le groupe sanguin : \n",
    "    * 0 = A+\n",
    "    * 1 = O+\n",
    "    * 2 = B+ \n",
    "    * 3 = AB+\n",
    "    * 4 = A-\n",
    "    * 5 = O-\n",
    "    * 6 = B-\n",
    "    * 7 = AB-"
   ]
  },
  {
   "cell_type": "code",
   "execution_count": 2,
   "metadata": {},
   "outputs": [],
   "source": [
    "# Implémentation des paramètres sur une population\n",
    "\n",
    "nb_agents = 7000\n",
    "agentList = []\n",
    "age=[]\n",
    "sexe=[]\n",
    "poids = []\n",
    "groupe_sanguin = []\n",
    "\n",
    "# Proportions cumulatives pour l'âge:\n",
    "prop_age = [17.8/100, 35.1242921972263/100, 66.8828069335807/100, 1]\n",
    "\n",
    "# Par tranches d'âges les proportions normalisées sont :\n",
    "prop_homme = [0.527541666807402, 0.521707530462693, 0.506880352191682, 0.467120912994188]\n",
    "prop_femme = [0.472458333192598, 0.478292469537307, 0.493119647808318, 0.532879087005812]\n",
    "\n",
    "# Proportions cumulatives pour le poids :\n",
    "prop_poids = [0.035,0.492,0.323,0.15]\n",
    "\n",
    "# Proportions pour le groupe sanguin : \n",
    "prop_groupe_sanguin = [0.38,0.36,0.08,0.03,0.07,0.06,0.01,0.01]\n",
    "\n",
    "graph = nx.barabasi_albert_graph(nb_agents,1)\n",
    "# Avec numpy array :\n",
    "matrix = nx.to_numpy_array(graph, nodelist=range(nb_agents))\n",
    "\n",
    "class Agent:\n",
    "    def __init__(self, id_number, accointances) :\n",
    "        self.id_number = id_number\n",
    "        self.accointances = accointances\n",
    "        self.has_it = False\n",
    "\n",
    "# Initialize accointances based on the matrix\n",
    "for i in range(nb_agents):\n",
    "    agentList.append(Agent(i,np.nonzero(matrix[i])[0]))\n",
    "    \n",
    "for i in range(nb_agents):\n",
    "    if 0 <= i <= int(nb_agents*prop_age[0]):\n",
    "        age.append(0)\n",
    "        sexe.append(np.random.choice([0,1], 1, p=[prop_homme[0],prop_femme[0]])[0])\n",
    "    if int(nb_agents*prop_age[0]) < i <= int(nb_agents*prop_age[1]):\n",
    "        age.append(1)\n",
    "        sexe.append(np.random.choice([0,1], 1, p=[prop_homme[1],prop_femme[1]])[0])\n",
    "    if int(nb_agents*prop_age[1]) < i <= int(nb_agents*prop_age[2]):\n",
    "        age.append(2)\n",
    "        sexe.append(np.random.choice([0,1], 1, p=[prop_homme[2],prop_femme[2]])[0])\n",
    "    if int(nb_agents*prop_age[2]) < i <= int(nb_agents*prop_age[3]):   \n",
    "        age.append(3)\n",
    "        sexe.append(np.random.choice([0,1], 1, p=[prop_homme[3],prop_femme[3]])[0])\n",
    "    poids.append(np.random.choice([0,1,2,3], 1, p=[prop_poids[0],prop_poids[1],prop_poids[2],prop_poids[3]])[0])\n",
    "    groupe_sanguin.append(np.random.choice([0,1,2,3,4,5,6,7], 1, p=[prop_groupe_sanguin[0],prop_groupe_sanguin[1],prop_groupe_sanguin[2],prop_groupe_sanguin[3],prop_groupe_sanguin[4],prop_groupe_sanguin[5],prop_groupe_sanguin[6],prop_groupe_sanguin[7]])[0])"
   ]
  },
  {
   "cell_type": "code",
   "execution_count": 3,
   "metadata": {},
   "outputs": [
    {
     "name": "stdout",
     "output_type": "stream",
     "text": [
      "Implémentation des paramètres\n",
      "\n",
      "Il y a 7000 agents.\n",
      "Les tableaux sont de la même taille que le nombre d'agents : True\n",
      "\n",
      "La proportion par tranches d'âge (simulation - réelle) est :\n",
      "[[0.         0.17814286 0.178     ]\n",
      " [1.         0.17314286 0.17324292]\n",
      " [2.         0.31757143 0.31758515]\n",
      " [3.         0.33114286 0.33117193]]\n",
      "\n",
      "La proportion H/F (simulation - réelle) est :\n",
      "[[0.  0.5]\n",
      " [1.  0.5]]\n",
      "\n",
      "La proportion du poids (simulation - réelle) est de :\n",
      "[[0.         0.03471429 0.035     ]\n",
      " [1.         0.48628571 0.492     ]\n",
      " [2.         0.32857143 0.323     ]\n",
      " [3.         0.15042857 0.15      ]]\n",
      "\n",
      "La proportion pour les groupes sanguins (simulation - réelle) est de :\n",
      "[[0.         0.37885714 0.38      ]\n",
      " [1.         0.35557143 0.36      ]\n",
      " [2.         0.083      0.08      ]\n",
      " [3.         0.02714286 0.03      ]\n",
      " [4.         0.07157143 0.07      ]\n",
      " [5.         0.06428571 0.06      ]\n",
      " [6.         0.00942857 0.01      ]\n",
      " [7.         0.01014286 0.01      ]]\n"
     ]
    }
   ],
   "source": [
    "# Analyse de nos valeurs :\n",
    "\n",
    "print(\"Implémentation des paramètres\\n\")\n",
    "print(f\"Il y a {nb_agents} agents.\")\n",
    "# On regarde que les tableaux aient la même taille :\n",
    "print(f\"Les tableaux sont de la même taille que le nombre d'agents : {len(age) == len(poids) == len(sexe) == nb_agents}\\n\")\n",
    "# On compare avec les valeurs réelles : \n",
    "y = np.bincount(age)/nb_agents\n",
    "ii = np.nonzero(y)[0]\n",
    "# On prends la proportion d'âge non-cumulative :\n",
    "prop_age_nc = np.array(prop_age)\n",
    "for i in range(0,len(prop_age)):\n",
    "    if i == 0:\n",
    "        prop_age_nc[i] = prop_age[i]\n",
    "    else:\n",
    "        prop_age_nc[i] = prop_age[i] - prop_age[i-1]\n",
    "print(f\"La proportion par tranches d'âge (simulation - réelle) est :\\n{np.vstack((ii,y[ii],prop_age_nc[ii])).T}\\n\")\n",
    "\n",
    "y = np.bincount(sexe)/nb_agents\n",
    "ii = np.nonzero(y)[0]\n",
    "print(f\"La proportion H/F (simulation - réelle) est :\\n{np.vstack((ii,y[ii])).T}\\n\")\n",
    "\n",
    "y = np.bincount(poids)/nb_agents\n",
    "ii = np.nonzero(y)[0]\n",
    "prop_poids = np.array(prop_poids)\n",
    "print(f\"La proportion du poids (simulation - réelle) est de :\\n{np.vstack((ii,y[ii],prop_poids[ii])).T}\\n\")\n",
    "\n",
    "y = np.bincount(groupe_sanguin)/nb_agents\n",
    "ii = np.nonzero(y)[0]\n",
    "prop_groupe_sanguin = np.array(prop_groupe_sanguin)\n",
    "print(f\"La proportion pour les groupes sanguins (simulation - réelle) est de :\\n{np.vstack((ii,y[ii],prop_groupe_sanguin[ii])).T}\")"
   ]
  },
  {
   "cell_type": "markdown",
   "metadata": {},
   "source": [
    "En comparant les données obtenues avec celles des sources, on observe que les proportions obtenues sont correctes."
   ]
  },
  {
   "cell_type": "markdown",
   "metadata": {},
   "source": [
    "### Partie 2 : Simulation multi-agents <a class=\"anchor\" id=\"c1-p2\"></a>"
   ]
  },
  {
   "cell_type": "markdown",
   "metadata": {},
   "source": [
    "Explications :"
   ]
  },
  {
   "cell_type": "markdown",
   "metadata": {},
   "source": [
    "[Table des matières](#tdm)"
   ]
  },
  {
   "cell_type": "code",
   "execution_count": 4,
   "metadata": {},
   "outputs": [],
   "source": [
    "# Création de la classe multi-agents\n",
    "\n",
    "class SMA:\n",
    "    def __init__(self, nb_agents, adjacency_matrix):\n",
    "        self.tick = 0\n",
    "        self.agentList = []\n",
    "        self.n_steps = 0\n",
    "        self.age = []\n",
    "        self.poids = []\n",
    "        self.sexe = []\n",
    "        self.groupe_sanguin = []\n",
    "        self.vivant = [] # 1 = Oui, 0 = Non\n",
    "        self.malade = [] # 1 = Oui, 0 = Non\n",
    "\n",
    "        # Initialize accointances based on the matrix\n",
    "        for i in range(nb_agents):\n",
    "            self.agentList.append(Agent(i, np.nonzero(adjacency_matrix[i])[0]))\n",
    "            self.vivant.append(1)\n",
    "            # Une probabilité d'être malade pour commencer à tracer les graphes\n",
    "            self.malade.append(np.random.choice([0,1], 1, p=[0.90,0.10])[0])\n",
    "\n",
    "        # Initialisation des paramètres se basant sur les sources :\n",
    "\n",
    "        # Proportions cumulatives pour l'âge :\n",
    "        prop_age = [17.8/100, 35.1242921972263/100, 66.8828069335807/100, 1]\n",
    "\n",
    "        # Par tranches d'âges les proportions normalisées sont :\n",
    "        prop_homme = [0.527541666807402, 0.521707530462693, 0.506880352191682, 0.467120912994188]\n",
    "        prop_femme = [0.472458333192598, 0.478292469537307, 0.493119647808318, 0.532879087005812]\n",
    "\n",
    "        # Proportions pour le poids :\n",
    "        prop_poids = [0.035,0.492,0.323,0.15]\n",
    "\n",
    "        # Proportions pour le groupe sanguin : \n",
    "        prop_groupe_sanguin = [0.38,0.36,0.08,0.03,0.07,0.06,0.01,0.01]\n",
    "\n",
    "        for i in range(nb_agents):\n",
    "            if 0 <= i <= int(nb_agents*prop_age[0]):\n",
    "                self.age.append(0)\n",
    "                self.sexe.append(np.random.choice([0,1], 1, p=[prop_homme[0],prop_femme[0]])[0])\n",
    "            if int(nb_agents*prop_age[0]) < i <= int(nb_agents*prop_age[1]):\n",
    "                self.age.append(1)\n",
    "                self.sexe.append(np.random.choice([0,1], 1, p=[prop_homme[1],prop_femme[1]])[0])\n",
    "            if int(nb_agents*prop_age[1]) < i <= int(nb_agents*prop_age[2]):\n",
    "                self.age.append(2)\n",
    "                self.sexe.append(np.random.choice([0,1], 1, p=[prop_homme[2],prop_femme[2]])[0])\n",
    "            if int(nb_agents*prop_age[2]) < i <= int(nb_agents*prop_age[3]):   \n",
    "                self.age.append(3)\n",
    "                self.sexe.append(np.random.choice([0,1], 1, p=[prop_homme[3],prop_femme[3]])[0])\n",
    "            self.poids.append(np.random.choice([0,1,2,3], 1, p=[prop_poids[0],prop_poids[1],prop_poids[2],prop_poids[3]])[0])\n",
    "            self.groupe_sanguin.append(np.random.choice([0,1,2,3,4,5,6,7], 1, p=[prop_groupe_sanguin[0],prop_groupe_sanguin[1],prop_groupe_sanguin[2],prop_groupe_sanguin[3],prop_groupe_sanguin[4],prop_groupe_sanguin[5],prop_groupe_sanguin[6],prop_groupe_sanguin[7]])[0])\n",
    "\n",
    "    def run(self, rounds):        \n",
    "        for i in range(0,rounds):\n",
    "            self.runOnce()\n",
    "            \n",
    "    def runOnce(self):\n",
    "        self.tick += 1\n",
    "        for agent in self.agentList:\n",
    "            agent.decide(self.tick) \n",
    "        #print(\"\\ntick \" + str(self.tick) + \" ended.\\n\")"
   ]
  },
  {
   "cell_type": "code",
   "execution_count": 5,
   "metadata": {},
   "outputs": [],
   "source": [
    "# Création de la classe Agent\n",
    "\n",
    "class Agent:\n",
    "    def __init__(self, id_number, accointances) :\n",
    "        self.id_number = id_number\n",
    "        self.accointances = accointances\n",
    "        self.has_it = False\n",
    "\n",
    "    def decide(self, tick) :\n",
    "        if self.has_it:\n",
    "            chosen = random.randint(0,len(sma.agentList)-1)\n",
    "\n",
    "            self.has_it = False\n",
    "            sma.agentList[random.randint(0,len(sma.agentList)-1)].has_it = parole\n",
    "\n",
    "            print(f\"L'agent {self.id_number} ({sma.sexe[self.id_number]}) pèse {sma.poids[self.id_number]} et est de groupe sanguin {sma.groupe_sanguin[self.id_number]} ! Il parle à l'agent {chosen}.\")"
   ]
  },
  {
   "cell_type": "code",
   "execution_count": 6,
   "metadata": {},
   "outputs": [
    {
     "name": "stdout",
     "output_type": "stream",
     "text": [
      "Il y a 7000 agents et 5 tours.\n",
      "L'agent 1796 (1) pèse 2 et est de groupe sanguin 0 ! Il parle à l'agent 5702.\n",
      "L'agent 4059 (0) pèse 0 et est de groupe sanguin 1 ! Il parle à l'agent 6525.\n",
      "L'agent 3887 (1) pèse 1 et est de groupe sanguin 1 ! Il parle à l'agent 2891.\n",
      "L'agent 3712 (1) pèse 2 et est de groupe sanguin 2 ! Il parle à l'agent 1935.\n",
      "L'agent 4385 (0) pèse 2 et est de groupe sanguin 0 ! Il parle à l'agent 1101.\n",
      "L'agent 1750 (1) pèse 3 et est de groupe sanguin 1 ! Il parle à l'agent 3544.\n",
      "L'agent 2476 (0) pèse 1 et est de groupe sanguin 1 ! Il parle à l'agent 6600.\n",
      "L'agent 1759 (1) pèse 1 et est de groupe sanguin 0 ! Il parle à l'agent 2988.\n",
      "L'agent 2198 (1) pèse 2 et est de groupe sanguin 0 ! Il parle à l'agent 1914.\n",
      "L'agent 3695 (1) pèse 1 et est de groupe sanguin 4 ! Il parle à l'agent 6862.\n",
      "L'agent 6461 (1) pèse 2 et est de groupe sanguin 4 ! Il parle à l'agent 584.\n",
      "\n",
      "Le temps d'exécution est de 1.8845s.\n"
     ]
    }
   ],
   "source": [
    "# Exécution de la simulation\n",
    "nb_agents = 7_000\n",
    "nb_rounds = 5\n",
    "temps_debut = time.time()\n",
    "\n",
    "# Choix du type de graphe : \n",
    "\n",
    "graph = nx.barabasi_albert_graph(nb_agents, 1)\n",
    "#graph = nx.complete_graph(nb_agents)\n",
    "#graph = nx.erdos_renyi_graph(nb_agents,0.1)\n",
    "#graph = nx.cycle_graph(nb_agents)\n",
    "#graph = nx.random_regular_graph(3,nb_agents)\n",
    "\n",
    "matrix = nx.to_numpy_array(graph, nodelist=range(nb_agents))\n",
    "sma = SMA(nb_agents, matrix)\n",
    "\n",
    "# On donne la parole\n",
    "parole = \"J'ai la parole.\"\n",
    "an_agent = np.random.choice(sma.agentList)\n",
    "an_agent.has_it = parole\n",
    "print(f\"Il y a {nb_agents} agents et {nb_rounds} tours.\")\n",
    "\n",
    "# On lance le jeu\n",
    "sma.run(nb_rounds)\n",
    "\n",
    "temps_fin = time.time()\n",
    "print(f\"\\nLe temps d'exécution est de {round(temps_fin-temps_debut,4)}s.\")\n",
    "\n",
    "# On reprend la balle, pour une éventuelle réexécution.\n",
    "for agent in sma.agentList:\n",
    "    if agent.has_it:\n",
    "        agent.has_it = False"
   ]
  },
  {
   "cell_type": "code",
   "execution_count": 7,
   "metadata": {},
   "outputs": [
    {
     "data": {
      "image/png": "[encoded data removed]",
      "text/plain": [
       "<Figure size 432x288 with 1 Axes>"
      ]
     },
     "metadata": {},
     "output_type": "display_data"
    }
   ],
   "source": [
    "# Tracé des graphes sociaux sur une population plus petite\n",
    "nb_agents = 50 # 50 est optimal pour le graphe, sinon les tailles sont trop disproportionné\n",
    "\n",
    "# Choix du type de graphe : \n",
    "\n",
    "graph = nx.barabasi_albert_graph(nb_agents, 1)\n",
    "\n",
    "matrix = nx.to_numpy_array(graph, nodelist=range(nb_agents))\n",
    "sma = SMA(nb_agents, matrix)\n",
    "\n",
    "color_map = []\n",
    "for node in graph:\n",
    "    if sma.malade[node] == 1:\n",
    "        color_map.append('red')\n",
    "    else: \n",
    "        color_map.append('green')  \n",
    "\n",
    "size =  []\n",
    "for node in graph:\n",
    "    size.append(graph.degree(node))\n",
    "\n",
    "max_value = np.max(size)\n",
    "iterator = 0\n",
    "for value in size:\n",
    "    size[iterator] = (value/max_value)*400\n",
    "    iterator += 1\n",
    "\n",
    "my_pos = nx.spring_layout(graph, seed = 100)\n",
    "    \n",
    "plt.figure()\n",
    "nx.draw(graph, pos=my_pos, node_color=color_map, node_size=size)\n",
    "plt.axis('off')\n",
    "plt.show()"
   ]
  },
  {
   "cell_type": "markdown",
   "metadata": {},
   "source": [
    "### Partie 3 : Facteurs de contagion <a class=\"anchor\" id=\"c1-p3\"></a>"
   ]
  },
  {
   "cell_type": "markdown",
   "metadata": {},
   "source": [
    "Explications :"
   ]
  },
  {
   "cell_type": "markdown",
   "metadata": {},
   "source": [
    "[Table des matières](#tdm)"
   ]
  },
  {
   "cell_type": "code",
   "execution_count": 8,
   "metadata": {},
   "outputs": [],
   "source": [
    "# Utilisation du graphe dans la classe Agent avec import dans la classe SMA :\n",
    "class SMA:\n",
    "    def __init__(self, nb_agents, adjacency_matrix, graphe):\n",
    "        self.tick = 0\n",
    "        self.agentList = []\n",
    "        self.n_steps = 0\n",
    "        self.age = []\n",
    "        self.poids = []\n",
    "        self.sexe = []\n",
    "        self.groupe_sanguin = []\n",
    "        self.vivant = [] # 1 = Oui, 0 = Non\n",
    "        self.malade = [] # 1 = Oui, 0 = Non\n",
    "        # On récupère le graphe pour travailler dessus dans le modèle de contagion\n",
    "        self.graphe = graphe\n",
    "\n",
    "        # Initialize accointances based on the matrix\n",
    "        for i in range(nb_agents):\n",
    "            self.agentList.append(Agent(i, np.nonzero(adjacency_matrix[i])[0]))\n",
    "            self.vivant.append(1)\n",
    "            # Une probabilité d'être malade pour commencer à tracer les graphes\n",
    "            self.malade.append(np.random.choice([0,1], 1, p=[0.90,0.10])[0])\n",
    "\n",
    "        prop_age = [17.8/100, 35.1242921972263/100, 66.8828069335807/100, 1]\n",
    "\n",
    "        prop_homme = [0.527541666807402, 0.521707530462693, 0.506880352191682, 0.467120912994188]\n",
    "        prop_femme = [0.472458333192598, 0.478292469537307, 0.493119647808318, 0.532879087005812]\n",
    "\n",
    "        prop_poids = [0.035,0.492,0.323,0.15] \n",
    "        prop_groupe_sanguin = [0.38,0.36,0.08,0.03,0.07,0.06,0.01,0.01]\n",
    "\n",
    "        for i in range(nb_agents):\n",
    "            if 0 <= i <= int(nb_agents*prop_age[0]):\n",
    "                self.age.append(0)\n",
    "                self.sexe.append(np.random.choice([0,1], 1, p=[prop_homme[0],prop_femme[0]])[0])\n",
    "            if int(nb_agents*prop_age[0]) < i <= int(nb_agents*prop_age[1]):\n",
    "                self.age.append(1)\n",
    "                self.sexe.append(np.random.choice([0,1], 1, p=[prop_homme[1],prop_femme[1]])[0])\n",
    "            if int(nb_agents*prop_age[1]) < i <= int(nb_agents*prop_age[2]):\n",
    "                self.age.append(2)\n",
    "                self.sexe.append(np.random.choice([0,1], 1, p=[prop_homme[2],prop_femme[2]])[0])\n",
    "            if int(nb_agents*prop_age[2]) < i <= int(nb_agents*prop_age[3]):   \n",
    "                self.age.append(3)\n",
    "                self.sexe.append(np.random.choice([0,1], 1, p=[prop_homme[3],prop_femme[3]])[0])\n",
    "            self.poids.append(np.random.choice([0,1,2,3], 1, p=[prop_poids[0],prop_poids[1],prop_poids[2],prop_poids[3]])[0])\n",
    "            self.groupe_sanguin.append(np.random.choice([0,1,2,3,4,5,6,7], 1, p=[prop_groupe_sanguin[0],prop_groupe_sanguin[1],prop_groupe_sanguin[2],prop_groupe_sanguin[3],prop_groupe_sanguin[4],prop_groupe_sanguin[5],prop_groupe_sanguin[6],prop_groupe_sanguin[7]])[0])\n",
    "\n",
    "    def run(self, rounds):        \n",
    "        for i in range(0,rounds):\n",
    "            self.runOnce()\n",
    "            \n",
    "    def runOnce(self):\n",
    "        self.tick += 1\n",
    "        for agent in self.agentList:\n",
    "            agent.decide(self.tick) "
   ]
  },
  {
   "cell_type": "code",
   "execution_count": 9,
   "metadata": {},
   "outputs": [],
   "source": [
    "# Explications sur la manière de récupèrer les alpha-contacts dans la classe Agent\n",
    "class Agent:\n",
    "    def __init__(self, id_number, accointances) :\n",
    "        self.id_number = id_number\n",
    "        self.accointances = accointances\n",
    "        self.has_it = False\n",
    "\n",
    "    def decide(self, tick) :\n",
    "        alpha = 0.8\n",
    "        if self.has_it:\n",
    "            # Pour chaque agents j \n",
    "            for j in range(0,len(sma.agentList)):\n",
    "                liens = []\n",
    "                contact = []\n",
    "                for i in range(0,len(list(graph.edges(j)))):\n",
    "                    # print(list(graph.edges(j))[i][1])\n",
    "                    # On récupère les agents en lien avec notre agent\n",
    "                    # On les met dans un tableau\n",
    "                    liens.append(list(graph.edges(j))[i][1])\n",
    "                print(f\"L'agent {j} a {len(liens)} liens\")\n",
    "                print(f\"Les liens de l'agent {j} sont : {list(sma.graphe.edges(j))}\")\n",
    "                # On récupère aléatoirement alpha % de ces personnes\n",
    "                for k in range(int(alpha*len(liens))):\n",
    "                    print(f\"On garde {alpha} % de liens donc : {int(alpha*len(liens))} contact\")\n",
    "                    valeur_contact = random.randint(0,int(alpha*len(liens)))\n",
    "                    print(f\"On récupère la personne {valeur_contact} dans la liste\")\n",
    "                    contact.append(liens.pop(valeur_contact))\n",
    "                    print(f\"Liens après {k} itérations : {liens}\")\n",
    "                    print(f\"Contact à {k} itérations : {contact}\")\n",
    "                # On fait en sorte que chaque j agents aient au moins 1 contact :\n",
    "                if (contact == []):\n",
    "                    print(f\"Comme garder {alpha} % de liens équivaut à {int(alpha*len(liens))} contact, l'agent {j} garde son unique lien.\")\n",
    "                    contact.append(liens[len(liens)-1])\n",
    "                print(f\"Au final, les alpha-contacts de {j} sont : {contact}\\n\")"
   ]
  },
  {
   "cell_type": "code",
   "execution_count": 10,
   "metadata": {},
   "outputs": [
    {
     "name": "stdout",
     "output_type": "stream",
     "text": [
      "Il y a 5 agents et 1 tours.\n",
      "\n",
      "L'agent 0 a 4 liens\n",
      "Les liens de l'agent 0 sont : [(0, 1), (0, 2), (0, 3), (0, 4)]\n",
      "On garde 0.8 % de liens donc : 3 contact\n",
      "On récupère la personne 3 dans la liste\n",
      "Liens après 0 itérations : [1, 2, 3]\n",
      "Contact à 0 itérations : [4]\n",
      "On garde 0.8 % de liens donc : 2 contact\n",
      "On récupère la personne 2 dans la liste\n",
      "Liens après 1 itérations : [1, 2]\n",
      "Contact à 1 itérations : [4, 3]\n",
      "On garde 0.8 % de liens donc : 1 contact\n",
      "On récupère la personne 1 dans la liste\n",
      "Liens après 2 itérations : [1]\n",
      "Contact à 2 itérations : [4, 3, 2]\n",
      "Au final, les alpha-contacts de 0 sont : [4, 3, 2]\n",
      "\n",
      "L'agent 1 a 1 liens\n",
      "Les liens de l'agent 1 sont : [(1, 0)]\n",
      "Comme garder 0.8 % de liens équivaut à 0 contact, l'agent 1 garde son unique lien.\n",
      "Au final, les alpha-contacts de 1 sont : [0]\n",
      "\n",
      "L'agent 2 a 1 liens\n",
      "Les liens de l'agent 2 sont : [(2, 0)]\n",
      "Comme garder 0.8 % de liens équivaut à 0 contact, l'agent 2 garde son unique lien.\n",
      "Au final, les alpha-contacts de 2 sont : [0]\n",
      "\n",
      "L'agent 3 a 1 liens\n",
      "Les liens de l'agent 3 sont : [(3, 0)]\n",
      "Comme garder 0.8 % de liens équivaut à 0 contact, l'agent 3 garde son unique lien.\n",
      "Au final, les alpha-contacts de 3 sont : [0]\n",
      "\n",
      "L'agent 4 a 1 liens\n",
      "Les liens de l'agent 4 sont : [(4, 0)]\n",
      "Comme garder 0.8 % de liens équivaut à 0 contact, l'agent 4 garde son unique lien.\n",
      "Au final, les alpha-contacts de 4 sont : [0]\n",
      "\n"
     ]
    }
   ],
   "source": [
    "# On relance notre expérience \n",
    "nb_agents = 5\n",
    "nb_rounds = 1\n",
    "\n",
    "# Choix du type de graphe : \n",
    "graph = nx.barabasi_albert_graph(nb_agents, 1) \n",
    "\n",
    "matrix = nx.to_numpy_array(graph, nodelist=range(nb_agents))\n",
    "sma = SMA(nb_agents, matrix, graph)\n",
    "\n",
    "# On donne la parole\n",
    "parole = \"J'ai la parole.\"\n",
    "an_agent = np.random.choice(sma.agentList)\n",
    "an_agent.has_it = parole\n",
    "print(f\"Il y a {nb_agents} agents et {nb_rounds} tours.\\n\")\n",
    "\n",
    "# On lance le jeu\n",
    "sma.run(nb_rounds)"
   ]
  },
  {
   "cell_type": "markdown",
   "metadata": {},
   "source": [
    "### Partie 4 : Simulation avec une contagion aléatoire <a class=\"anchor\" id=\"c1-p4\"></a>"
   ]
  },
  {
   "cell_type": "markdown",
   "metadata": {},
   "source": [
    "Explications : "
   ]
  },
  {
   "cell_type": "markdown",
   "metadata": {},
   "source": [
    "À rajouter : \n",
    "* cas confirmé = malade\n",
    "* décès = vivant \n",
    "* réanimation = TODO\n",
    "* hopsitalisation = TODO\n",
    "* guéris = immunise\n",
    "\n",
    "Comment utiliser correctement les paramètres sur l'âge, le poids, etc ? \n",
    "Est-il possible de récupérer des données pour que notre algorithme s'entraine dessus ?"
   ]
  },
  {
   "cell_type": "markdown",
   "metadata": {},
   "source": [
    "[Table des matières](#tdm)"
   ]
  },
  {
   "cell_type": "code",
   "execution_count": 11,
   "metadata": {},
   "outputs": [],
   "source": [
    "class SMA:\n",
    "    def __init__(self, nb_agents, adjacency_matrix, graphe, depart, alpha, beta, gamma, delta, incubation):\n",
    "        self.tick = 0\n",
    "        self.agentList = []\n",
    "        self.n_steps = 0\n",
    "        self.age = []\n",
    "        self.poids = []\n",
    "        self.sexe = []\n",
    "        self.groupe_sanguin = []\n",
    "        self.vivant = [] # 1 = Oui, 0 = Non\n",
    "        self.malade = [] # 1 = Oui, 0 = Non\n",
    "        # On récupère le graphe pour travailler dessus dans le modèle de contagion\n",
    "        self.graphe = graphe\n",
    "        self.immunise = [] # 1 = Oui, 0 = Non\n",
    "        self.jour_malade = []\n",
    "        \n",
    "        self.alpha = alpha # contact\n",
    "        self.beta = beta # contamination\n",
    "        self.gamma = gamma # décès\n",
    "        self.delta = delta # guérison\n",
    "        self.incubation = incubation # période pendant laquelle le patient est malade\n",
    "\n",
    "        self.plot_malade = []\n",
    "        self.plot_vivant = []\n",
    "        self.plot_immunise = []\n",
    "\n",
    "        # Initialize accointances based on the matrix\n",
    "        for i in range(nb_agents):\n",
    "            self.agentList.append(Agent(i, np.nonzero(adjacency_matrix[i])[0]))\n",
    "            self.vivant.append(1)\n",
    "            # Une probabilité d'être malade pour commencer à tracer les graphes\n",
    "            self.malade.append(np.random.choice([0,1], 1, p=[1-depart,depart])[0])\n",
    "            if self.malade[i] == 1:\n",
    "                self.immunise.append(1)\n",
    "            else:\n",
    "                self.immunise.append(0)\n",
    "            self.jour_malade.append(0)\n",
    "\n",
    "        # Initialisation des paramètres se basant sur les sources :\n",
    "        # Proportions cumulatives pour l'âge :\n",
    "        prop_age = [17.8/100, 35.1242921972263/100, 66.8828069335807/100, 1]\n",
    "\n",
    "        # Par tranches d'âges les proportions normalisées sont :\n",
    "        prop_homme = [0.527541666807402, 0.521707530462693, 0.506880352191682, 0.467120912994188]\n",
    "        prop_femme = [0.472458333192598, 0.478292469537307, 0.493119647808318, 0.532879087005812]\n",
    "\n",
    "        # Proportions pour le poids :\n",
    "        prop_poids = [0.035,0.492,0.323,0.15]\n",
    "\n",
    "        # Proportions pour le groupe sanguin : \n",
    "        prop_groupe_sanguin = [0.38,0.36,0.08,0.03,0.07,0.06,0.01,0.01]\n",
    "\n",
    "        for i in range(nb_agents):\n",
    "            if 0 <= i <= int(nb_agents*prop_age[0]):\n",
    "                self.age.append(0)\n",
    "                self.sexe.append(np.random.choice([0,1], 1, p=[prop_homme[0],prop_femme[0]])[0])\n",
    "            if int(nb_agents*prop_age[0]) < i <= int(nb_agents*prop_age[1]):\n",
    "                self.age.append(1)\n",
    "                self.sexe.append(np.random.choice([0,1], 1, p=[prop_homme[1],prop_femme[1]])[0])\n",
    "            if int(nb_agents*prop_age[1]) < i <= int(nb_agents*prop_age[2]):\n",
    "                self.age.append(2)\n",
    "                self.sexe.append(np.random.choice([0,1], 1, p=[prop_homme[2],prop_femme[2]])[0])\n",
    "            if int(nb_agents*prop_age[2]) < i <= int(nb_agents*prop_age[3]):   \n",
    "                self.age.append(3)\n",
    "                self.sexe.append(np.random.choice([0,1], 1, p=[prop_homme[3],prop_femme[3]])[0])\n",
    "            self.poids.append(np.random.choice([0,1,2,3], 1, p=[prop_poids[0],prop_poids[1],prop_poids[2],prop_poids[3]])[0])\n",
    "            self.groupe_sanguin.append(np.random.choice([0,1,2,3,4,5,6,7], 1, p=[prop_groupe_sanguin[0],prop_groupe_sanguin[1],prop_groupe_sanguin[2],prop_groupe_sanguin[3],prop_groupe_sanguin[4],prop_groupe_sanguin[5],prop_groupe_sanguin[6],prop_groupe_sanguin[7]])[0])\n",
    "\n",
    "        self.plot_malade.append(self.malade.count(1))\n",
    "        self.plot_immunise.append(self.immunise.count(1))\n",
    "        self.plot_vivant.append(self.vivant.count(0))\n",
    "\n",
    "    def run(self, rounds):        \n",
    "        for i in range(0,rounds):\n",
    "            self.runOnce()\n",
    "            self.plot_malade.append(self.malade.count(1))\n",
    "            self.plot_immunise.append(self.immunise.count(1))\n",
    "            self.plot_vivant.append(self.vivant.count(0))\n",
    "            \n",
    "            \n",
    "    def runOnce(self):\n",
    "        self.tick += 1\n",
    "        for agent in self.agentList:\n",
    "            agent.decide(self.tick) \n",
    "        #print(\"\\ntick \" + str(self.tick) + \" ended.\\n\")"
   ]
  },
  {
   "cell_type": "code",
   "execution_count": 12,
   "metadata": {},
   "outputs": [],
   "source": [
    "class Agent:\n",
    "    def __init__(self, id_number, accointances) :\n",
    "        self.id_number = id_number\n",
    "        self.accointances = accointances\n",
    "        self.has_it = False\n",
    "\n",
    "    def decide(self, tick) :\n",
    "        j = self.id_number\n",
    "\n",
    "        # On regarde si l'agent malade va guérir ou mourir\n",
    "        if sma.malade[j] == 1 and sma.vivant[j] == 1:\n",
    "            if sma.jour_malade[j] <= sma.incubation:\n",
    "                # Tous les jours, l'agent peut décéder :\n",
    "                sma.vivant[j] = np.random.choice([0,1], 1, p=[sma.gamma,1-sma.gamma])[0]\n",
    "                    # S'il meurt, il n'est plus malade\n",
    "                if sma.vivant[j] == 0:\n",
    "                    sma.malade[j] = 0\n",
    "                    sma.jour_malade[j] += sma.incubation\n",
    "                # ou guérir :\n",
    "                sma.malade[j] = np.random.choice([0,1], 1, p=[sma.delta,1-sma.delta])[0]\n",
    "                if sma.malade[j] == 0:\n",
    "                    sma.jour_malade[j] += sma.incubation\n",
    "                    sma.immunise[j] = 1\n",
    "                # Puis, pour chaque malade on compte 1 jour de plus pour ce tour\n",
    "                sma.jour_malade[j] += 1\n",
    "        \n",
    "        # Après la période d'incubation, l'agent n'est plus malade\n",
    "        if sma.jour_malade[j] > sma.incubation:\n",
    "            sma.malade[j] = 0\n",
    "            sma.immunise[j] = 1\n",
    "\n",
    "        # Si l'agent j est vivant, on regarde s'il peut être contaminé :\n",
    "        # Donc il faut qu'il soit sain et non immunisé\n",
    "        if sma.vivant[j] == 1 and sma.immunise[j] == 0 and sma.malade[j] == 0:\n",
    "            # On regarde tous ces liens et on garde uniquement les contacts\n",
    "            liens = []\n",
    "            contact = []\n",
    "            for i in range(0,len(list(graph.edges(j)))):\n",
    "                # On récupère les agents en lien avec notre agent\n",
    "                # On les met dans un tableau\n",
    "                liens.append(list(graph.edges(j))[i][1])\n",
    "                # On récupère aléatoirement alpha % de ces personnes\n",
    "            for k in range(int(sma.alpha*len(liens))):\n",
    "                valeur_contact = random.randint(0,int(sma.alpha*len(liens)))\n",
    "                contact.append(liens.pop(valeur_contact))\n",
    "            # On fait en sorte que chaque j agents aient au moins 1 contact :\n",
    "            if (contact == []):\n",
    "                contact.append(liens[len(liens)-1])\n",
    "            \n",
    "            # Pour chaque personnes restantes dans les contacts, on regarde si elles sont malades\n",
    "            for i in range(0,len(contact)):\n",
    "                if sma.malade[contact[i]] == 1:\n",
    "                    # Si un contact est malade, il y a beta % chances de contamination pour notre agent j\n",
    "                    sma.malade[j] = np.random.choice([0,1], 1, p=[1-sma.beta,sma.beta])[0]\n"
   ]
  },
  {
   "cell_type": "code",
   "execution_count": 13,
   "metadata": {},
   "outputs": [
    {
     "name": "stdout",
     "output_type": "stream",
     "text": [
      "Propagation du virus pour 700 agents et 60 jours.\n",
      "\n",
      "Le temps d'exécution de la simulation est de 1.2675s.\n"
     ]
    },
    {
     "data": {
      "image/png": "[encoded data removed]",
      "text/plain": [
       "<Figure size 432x288 with 1 Axes>"
      ]
     },
     "metadata": {
      "needs_background": "light"
     },
     "output_type": "display_data"
    }
   ],
   "source": [
    "nb_agents = 700\n",
    "nb_rounds = 60\n",
    "print(f\"Propagation du virus pour {nb_agents} agents et {nb_rounds} jours.\")\n",
    "\n",
    "# Choix du type de graphe : \n",
    "\n",
    "graph = nx.barabasi_albert_graph(nb_agents, 1) \n",
    "#graph = nx.complete_graph(nb_agents)\n",
    "#graph = nx.erdos_renyi_graph(nb_agents,0.1)\n",
    "#graph = nx.cycle_graph(nb_agents)\n",
    "#graph = nx.random_regular_graph(3,nb_agents)\n",
    "\n",
    "# Pour tester dans une boucle for : \n",
    "graphs = [nx.barabasi_albert_graph(nb_agents, 1), nx.erdos_renyi_graph(nb_agents,0.1), nx.cycle_graph(nb_agents), nx.random_regular_graph(3,nb_agents)]\n",
    "departs = [0.01, 0.05, 0.1, 0.2, 0.5]\n",
    "alphas = [0.2, 0.4, 0.6, 0.8]\n",
    "betas = [0.2, 0.4, 0.6, 0.8]\n",
    "gammas = [0.001, 0.005, 0.01, 0.05, 0.1, 0.5]\n",
    "deltas = [0.001, 0.005, 0.01, 0.05, 0.1, 0.5]\n",
    "incubations = [2,4,6,8,10,12,14,15]\n",
    "\n",
    "# Malheureusement, impossible d'avoir de belles courbes même après avoir tester tous les paramètres ci-dessus\n",
    "\n",
    "depart = 0.05 # proportion de personnes contaminées au départ\n",
    "alpha = 0.6 # contact\n",
    "beta = 0.3 # contamination\n",
    "gamma = 0.01 # décès\n",
    "delta = 0.001 # guérison\n",
    "incubation = 12 # période pendant laquelle l'agent est malade\n",
    "\n",
    "matrix = nx.to_numpy_array(graph, nodelist=range(nb_agents))\n",
    "sma = SMA(nb_agents, matrix, graph, depart, alpha, beta, gamma, delta, incubation)\n",
    "\n",
    "temps_debut = time.time()\n",
    "# On lance le jeu\n",
    "sma.run(nb_rounds)\n",
    "\n",
    "temps_fin = time.time()\n",
    "print(f\"\\nLe temps d'exécution de la simulation est de {round(temps_fin-temps_debut,4)}s.\")\n",
    "\n",
    "# Tracé de graphes :\n",
    "x = []\n",
    "for i in range(0,len(sma.plot_vivant)):\n",
    "    x.append(i)\n",
    "\n",
    "y = [sma.plot_vivant, sma.plot_malade, sma.plot_immunise]\n",
    "labels = ['Décès', 'Malade', 'Immunisé']\n",
    "\n",
    "for y_arr, label in zip(y, labels):\n",
    "    plt.plot(x, y_arr, label=label)\n",
    "plt.xlabel('Nombre de jours')\n",
    "plt.ylabel('Nombre de personnes')\n",
    "plt.legend(loc=\"upper right\")\n",
    "plt.savefig('./plot/simulation.pdf')\n",
    "plt.show()"
   ]
  },
  {
   "cell_type": "markdown",
   "metadata": {},
   "source": [
    "## Chapitre 2 : Graphes <a class=\"anchor\" id=\"c2\"></a>"
   ]
  },
  {
   "cell_type": "markdown",
   "metadata": {},
   "source": [
    "### Partie 1 : Graphe de l'évolution du Covid en France <a class=\"anchor\" id=\"c2-p1\"></a>"
   ]
  },
  {
   "cell_type": "markdown",
   "metadata": {},
   "source": [
    "[Table des matières](#tdm)"
   ]
  },
  {
   "cell_type": "code",
   "execution_count": 14,
   "metadata": {},
   "outputs": [],
   "source": [
    "# Création d'un csv avec les dates de 2020\n",
    "with open('dates.csv', 'w', newline='') as file:\n",
    "    writer = csv.writer(file,delimiter=',')\n",
    "    writer.writerow([\"date\"])\n",
    "    mois = [1,2,3,4,5,6,7,8,9,10,11,12]\n",
    "    for m in mois:\n",
    "        if m < 8:\n",
    "            if m == 2:\n",
    "                for j in range(1,30):\n",
    "                    writer.writerow([f\"{date(2020,m,j)}\"])\n",
    "            else:\n",
    "                if m % 2 == 0:\n",
    "                    for j in range(1,31):\n",
    "                        writer.writerow([f\"{date(2020,m,j)}\"])\n",
    "                if m % 2 != 0:\n",
    "                    for j in range(1,32):\n",
    "                        writer.writerow([f\"{date(2020,m,j)}\"])\n",
    "        else:\n",
    "            if m % 2 == 0:\n",
    "                for j in range(1,32):\n",
    "                    writer.writerow([f\"{date(2020,m,j)}\"])\n",
    "            if m % 2 != 0:\n",
    "                for j in range(1,31):\n",
    "                    writer.writerow([f\"{date(2020,m,j)}\"])"
   ]
  },
  {
   "cell_type": "code",
   "execution_count": 15,
   "metadata": {},
   "outputs": [],
   "source": [
    "# Collecte des données sur le site du gouvernement pour l'année 2020\n",
    "def collecte_donnees(granularite='national'):\n",
    "    print(\"Collecte des données du gouvernement\")\n",
    "    data_brute = pd.read_csv('https://raw.githubusercontent.com/opencovid19-fr/data/master/dist/chiffres-cles.csv',low_memory=False)\n",
    "    dates = pd.read_csv('dates.csv')\n",
    "\n",
    "    # National\n",
    "    if granularite == \"national\":\n",
    "        data_brute = data_brute.loc[data_brute['source_type'] == \"ministere-sante\"]\n",
    "        data_brute = data_brute.loc[data_brute['granularite'] == \"pays\"].reset_index()\n",
    "        data_brute = data_brute[['date','cas_confirmes', 'deces', 'deces_ehpad', 'reanimation', 'hospitalises', 'gueris']]\n",
    "        data_brute = dates.set_index('date').join(data_brute.set_index('date'))\n",
    "        data = data_brute.interpolate(limit_area='inside')\n",
    "        data = data.dropna(how='all')\n",
    "        data['reanimation'][0:3] = 0\n",
    "        data['gueris'][0:3] = 0\n",
    "\n",
    "    # Regional\n",
    "    if granularite == \"regional\":\n",
    "        data_brute = data_brute.loc[data_brute['source_type'] == \"opencovid19-fr\"]\n",
    "        data_brute = data_brute.loc[data_brute['maille_code'] == \"REG-32\"].reset_index()\n",
    "        data_brute = data_brute[['date','cas_confirmes', 'deces','deces_ehpad', 'reanimation', 'hospitalises', 'gueris']]\n",
    "        data_brute = dates.set_index('date').join(data_brute.set_index('date'))\n",
    "        data = data_brute.interpolate(limit_area='inside')\n",
    "        data = data.dropna(how='all')\n",
    "        data = data.loc['2020-03-18':]\n",
    "\n",
    "    # Departemental\n",
    "    if granularite == \"departemental\":\n",
    "        data_brute = pd.read_csv(glob.glob('donnees-hospitalieres-covid19-*')[-1], sep=\";\")\n",
    "        data_brute = data_brute.loc[data_brute['dep'] == \"59\"]\n",
    "        data_brute[data_brute['sexe']==0].groupby(['jour']).sum()\n",
    "        data = data.drop(columns=['sexe'])\n",
    "\n",
    "    return data"
   ]
  },
  {
   "cell_type": "code",
   "execution_count": 16,
   "metadata": {},
   "outputs": [
    {
     "name": "stdout",
     "output_type": "stream",
     "text": [
      "Collecte des données du gouvernement\n",
      "Création du graphe\n"
     ]
    },
    {
     "data": {
      "image/png": "[encoded data removed]",
      "text/plain": [
       "<Figure size 432x288 with 1 Axes>"
      ]
     },
     "metadata": {
      "needs_background": "light"
     },
     "output_type": "display_data"
    }
   ],
   "source": [
    "# Création du graphe de l'évolution du Covid en France\n",
    "\n",
    "# date du jour :\n",
    "today = date.today()\n",
    "\n",
    "# Pour avoir toutes les données :\n",
    "data = collecte_donnees()\n",
    "\n",
    "# Pour plotter à l'échelle régionale ou départementale :\n",
    "#data = collecte_donnees('regional')\n",
    "#data = collecte_donnees('departemental')\n",
    "\n",
    "print(\"Création du graphe\")\n",
    "# Plot de la figure : \n",
    "fig, ax1 = plt.subplots(1, 1)\n",
    "ax1.plot(data['reanimation'])\n",
    "ax1.plot(data['deces'])\n",
    "\n",
    "x_axis = ax1.axes.get_xaxis()\n",
    "x_axis.set_visible(False)\n",
    "\n",
    "# Dates importantes :\n",
    "# début-fin du premier confinement, début-fin été 2020, début du deuxième confinement : \n",
    "xcoords = ['2020-03-17','2020-05-11','2020-07-01','2020-09-01','2020-11-01']\n",
    "\n",
    "for xc in xcoords:\n",
    "    plt.axvline(x=xc,ls='--',c='gray')\n",
    "    ax1.text(xc, -0.02, f\"{xc}\", color='black', transform=ax1.get_xaxis_transform(),\n",
    "            ha='center', va='top', fontsize=8)\n",
    "\n",
    "# Nombre de lits en réanimation :\n",
    "plt.axhline(y=5000,c='red')\n",
    "\n",
    "plt.axhline(y=30000,c='black')\n",
    "plt.title(f\"Graphe du {today}\")\n",
    "plt.legend([\"Nombre de personnes en réanimation\",\"Somme cumulative des décès\"])\n",
    "plt.savefig(f'./plot/graph_covid.pdf')\n",
    "plt.show()"
   ]
  },
  {
   "cell_type": "markdown",
   "metadata": {},
   "source": [
    "### Partie 2 : Répartition de la population française <a class=\"anchor\" id=\"c2-p2\"></a>"
   ]
  },
  {
   "cell_type": "markdown",
   "metadata": {},
   "source": [
    "[Table des matières](#tdm)"
   ]
  },
  {
   "cell_type": "code",
   "execution_count": 17,
   "metadata": {},
   "outputs": [
    {
     "name": "stdout",
     "output_type": "stream",
     "text": [
      "Répartition de la population française selon les proportions des sources\n",
      "Création des graphes\n"
     ]
    },
    {
     "data": {
      "image/png": "[encoded data removed]",
      "text/plain": [
       "<Figure size 432x288 with 1 Axes>"
      ]
     },
     "metadata": {
      "needs_background": "light"
     },
     "output_type": "display_data"
    },
    {
     "data": {
      "image/png": "[encoded data removed]",
      "text/plain": [
       "<Figure size 432x288 with 1 Axes>"
      ]
     },
     "metadata": {
      "needs_background": "light"
     },
     "output_type": "display_data"
    },
    {
     "data": {
      "image/png": "[encoded data removed]",
      "text/plain": [
       "<Figure size 432x288 with 1 Axes>"
      ]
     },
     "metadata": {
      "needs_background": "light"
     },
     "output_type": "display_data"
    },
    {
     "data": {
      "image/png": "[encoded data removed]",
      "text/plain": [
       "<Figure size 432x288 with 1 Axes>"
      ]
     },
     "metadata": {
      "needs_background": "light"
     },
     "output_type": "display_data"
    }
   ],
   "source": [
    "nb_agents = 67_000\n",
    "age=[]\n",
    "agentList = []\n",
    "sexe=[]\n",
    "poids = []\n",
    "groupe_sanguin = []\n",
    "\n",
    "# Proportions cumulatives pour l'âge:\n",
    "prop_age = [17.8/100, 35.1242921972263/100, 66.8828069335807/100, 1]\n",
    "\n",
    "# Par tranches d'âges les proportions normalisées sont :\n",
    "prop_homme = [0.527541666807402, 0.521707530462693, 0.506880352191682, 0.467120912994188]\n",
    "prop_femme = [0.472458333192598, 0.478292469537307, 0.493119647808318, 0.532879087005812]\n",
    "\n",
    "# Proportions pour le poids :\n",
    "prop_poids = [0.035,0.492,0.323,0.15]\n",
    "\n",
    "# Proportions pour le groupe sanguin : \n",
    "prop_groupe_sanguin = [0.38,0.36,0.08,0.03,0.07,0.06,0.01,0.01]\n",
    "\n",
    "print(\"Répartition de la population française selon les proportions des sources\")\n",
    "# Initialize accointances based on the matrix\n",
    "for i in range(nb_agents):\n",
    "    agentList.append(i)\n",
    "\n",
    "\n",
    "for i in range(nb_agents):\n",
    "    if 0 <= i <= int(nb_agents*prop_age[0]):\n",
    "        age.append('<15')\n",
    "        sexe.append(np.random.choice(['Homme','Femme'], 1, p=[prop_homme[0],prop_femme[0]])[0])\n",
    "    if int(nb_agents*prop_age[0]) < i <= int(nb_agents*prop_age[1]):\n",
    "        age.append('>15 & <30')\n",
    "        sexe.append(np.random.choice(['Homme','Femme'], 1, p=[prop_homme[0],prop_femme[0]])[0])\n",
    "    if int(nb_agents*prop_age[1]) < i <= int(nb_agents*prop_age[2]):\n",
    "        age.append('>30 & <55')\n",
    "        sexe.append(np.random.choice(['Homme','Femme'], 1, p=[prop_homme[0],prop_femme[0]])[0])\n",
    "    if int(nb_agents*prop_age[2]) < i <= int(nb_agents*prop_age[3]):   \n",
    "        age.append('>55')\n",
    "        sexe.append(np.random.choice(['Homme','Femme'], 1, p=[prop_homme[0],prop_femme[0]])[0])\n",
    "    poids.append(np.random.choice(['Dénutrition','Normal','Surpoids','Obésité'], 1, p=[prop_poids[0],prop_poids[1],prop_poids[2],prop_poids[3]])[0])\n",
    "    groupe_sanguin.append(np.random.choice(['A+','O+','B+','AB+','A-','O-','B-','AB-'], 1, p=[prop_groupe_sanguin[0],prop_groupe_sanguin[1],prop_groupe_sanguin[2],prop_groupe_sanguin[3],prop_groupe_sanguin[4],prop_groupe_sanguin[5],prop_groupe_sanguin[6],prop_groupe_sanguin[7]])[0])\n",
    "\n",
    "print(\"Création des graphes\")\n",
    "\n",
    "plt.hist(groupe_sanguin, color=\"#3F5D7D\", align='left', bins=range(0,9),edgecolor='black', linewidth=0.8)\n",
    "plt.xlabel(\"Groupe Sanguin\")\n",
    "plt.ylabel(\"Population en milliers\")\n",
    "plt.savefig('./plot/groupe_sanguin.pdf')\n",
    "plt.show()\n",
    "\n",
    "plt.hist(poids,color=\"#3F5D7D\", align='left', bins=range(0,5),edgecolor='black', linewidth=0.8)\n",
    "plt.xlabel(\"Poids\")\n",
    "plt.ylabel(\"Population en milliers\")\n",
    "plt.savefig('./plot/poids.pdf')\n",
    "plt.show()\n",
    "\n",
    "plt.hist(age,color=\"#3F5D7D\", align='left', bins=range(0,5),edgecolor='black', linewidth=0.8)\n",
    "plt.xlabel(\"Âge\")\n",
    "plt.ylabel(\"Population en milliers\")\n",
    "plt.savefig('./plot/age.pdf')\n",
    "plt.show()\n",
    "\n",
    "plt.hist(sexe,color=\"#3F5D7D\", align='mid',edgecolor='black', linewidth=0.8)\n",
    "plt.xlabel(\"Sexe\")\n",
    "plt.ylabel(\"Population en milliers\")\n",
    "plt.savefig('./plot/sexe.pdf')\n",
    "plt.show()"
   ]
  },
  {
   "cell_type": "markdown",
   "metadata": {},
   "source": [
    "### Partie 3 : Création d'une animation sur notre graphe social <a class=\"anchor\" id=\"c2-p3\"></a>"
   ]
  },
  {
   "cell_type": "markdown",
   "metadata": {},
   "source": [
    "[Table des matières](#tdm)"
   ]
  },
  {
   "cell_type": "code",
   "execution_count": 18,
   "metadata": {},
   "outputs": [],
   "source": [
    "class SMA:\n",
    "    def __init__(self, nb_agents, adjacency_matrix, graphe, depart, alpha, beta, gamma, delta, incubation):\n",
    "        self.tick = 0\n",
    "        self.agentList = []\n",
    "        self.n_steps = 0\n",
    "        self.age = []\n",
    "        self.poids = []\n",
    "        self.sexe = []\n",
    "        self.groupe_sanguin = []\n",
    "        self.vivant = [] # 1 = Oui, 0 = Non\n",
    "        self.malade = [] # 1 = Oui, 0 = Non\n",
    "        # On récupère le graphe pour travailler dessus dans le modèle de contagion\n",
    "        self.graphe = graphe\n",
    "        self.immunise = [] # 1 = Oui, 0 = Non\n",
    "        self.jour_malade = []\n",
    "        \n",
    "        self.alpha = alpha # contact\n",
    "        self.beta = beta # contamination\n",
    "        self.gamma = gamma # décès\n",
    "        self.delta = delta # guérison\n",
    "        self.incubation = incubation # période pendant laquelle le patient est malade\n",
    "\n",
    "        self.plot_malade = []\n",
    "        self.plot_vivant = [] \n",
    "        self.plot_immunise = []\n",
    "        \n",
    "        self.nx_animation = [] # Pour récupérer nos graphes sociaux au jour i\n",
    "\n",
    "        # Initialize accointances based on the matrix\n",
    "        for i in range(nb_agents):\n",
    "            self.agentList.append(Agent(i, np.nonzero(adjacency_matrix[i])[0]))\n",
    "            self.vivant.append(1)\n",
    "            # Une probabilité d'être malade pour commencer à tracer les graphes\n",
    "            self.malade.append(np.random.choice([0,1], 1, p=[1-depart,depart])[0])\n",
    "            if self.malade[i] == 1:\n",
    "                self.immunise.append(1)\n",
    "            else:\n",
    "                self.immunise.append(0)\n",
    "            self.jour_malade.append(0)\n",
    "\n",
    "        # Initialisation des paramètres se basant sur les sources :\n",
    "        # Proportions cumulatives pour l'âge :\n",
    "        prop_age = [17.8/100, 35.1242921972263/100, 66.8828069335807/100, 1]\n",
    "\n",
    "        # Par tranches d'âges les proportions normalisées sont :\n",
    "        prop_homme = [0.527541666807402, 0.521707530462693, 0.506880352191682, 0.467120912994188]\n",
    "        prop_femme = [0.472458333192598, 0.478292469537307, 0.493119647808318, 0.532879087005812]\n",
    "\n",
    "        # Proportions pour le poids :\n",
    "        prop_poids = [0.035,0.492,0.323,0.15]\n",
    "\n",
    "        # Proportions pour le groupe sanguin : \n",
    "        prop_groupe_sanguin = [0.38,0.36,0.08,0.03,0.07,0.06,0.01,0.01]\n",
    "\n",
    "        for i in range(nb_agents):\n",
    "            if 0 <= i <= int(nb_agents*prop_age[0]):\n",
    "                self.age.append(0)\n",
    "                self.sexe.append(np.random.choice([0,1], 1, p=[prop_homme[0],prop_femme[0]])[0])\n",
    "            if int(nb_agents*prop_age[0]) < i <= int(nb_agents*prop_age[1]):\n",
    "                self.age.append(1)\n",
    "                self.sexe.append(np.random.choice([0,1], 1, p=[prop_homme[1],prop_femme[1]])[0])\n",
    "            if int(nb_agents*prop_age[1]) < i <= int(nb_agents*prop_age[2]):\n",
    "                self.age.append(2)\n",
    "                self.sexe.append(np.random.choice([0,1], 1, p=[prop_homme[2],prop_femme[2]])[0])\n",
    "            if int(nb_agents*prop_age[2]) < i <= int(nb_agents*prop_age[3]):   \n",
    "                self.age.append(3)\n",
    "                self.sexe.append(np.random.choice([0,1], 1, p=[prop_homme[3],prop_femme[3]])[0])\n",
    "            self.poids.append(np.random.choice([0,1,2,3], 1, p=[prop_poids[0],prop_poids[1],prop_poids[2],prop_poids[3]])[0])\n",
    "            self.groupe_sanguin.append(np.random.choice([0,1,2,3,4,5,6,7], 1, p=[prop_groupe_sanguin[0],prop_groupe_sanguin[1],prop_groupe_sanguin[2],prop_groupe_sanguin[3],prop_groupe_sanguin[4],prop_groupe_sanguin[5],prop_groupe_sanguin[6],prop_groupe_sanguin[7]])[0])\n",
    "\n",
    "        self.plot_malade.append(self.malade.count(1))\n",
    "        self.plot_immunise.append(self.immunise.count(1))\n",
    "        self.plot_vivant.append(self.vivant.count(0))\n",
    "\n",
    "    def run(self, rounds):        \n",
    "        for i in range(0,rounds):\n",
    "            self.runOnce()\n",
    "            self.plot_malade.append(self.malade.count(1))\n",
    "            self.plot_immunise.append(self.immunise.count(1))\n",
    "            self.plot_vivant.append(self.vivant.count(0))\n",
    "            \n",
    "            \n",
    "    def runOnce(self):\n",
    "        self.tick += 1\n",
    "        for agent in self.agentList:\n",
    "            agent.decide(self.tick) \n",
    "        #print(\"\\ntick \" + str(self.tick) + \" ended.\\n\")\n",
    "        self.nx_animation.append(self.draw_graph(\"Jour_\" + str(self.tick)))\n",
    "\n",
    "    def draw_graph(self,titre):\n",
    "        color_map = []\n",
    "        for node in self.graphe:\n",
    "            if self.malade[node] == 1:\n",
    "                color_map.append('red')\n",
    "            else:\n",
    "                if self.vivant[node] == 0: \n",
    "                    color_map.append('grey')  \n",
    "                else:\n",
    "                    if self.immunise[node] == 1: \n",
    "                        color_map.append('blue')  \n",
    "                    else:\n",
    "                        color_map.append('green')\n",
    "\n",
    "        size = []\n",
    "        for node in self.graphe:\n",
    "            size.append(self.graphe.degree(node))\n",
    "\n",
    "        max_value = np.max(size)\n",
    "        iterator = 0\n",
    "        for value in size:\n",
    "            size[iterator] = (value/max_value)*400\n",
    "            iterator += 1\n",
    "\n",
    "        my_pos = nx.spring_layout(graph, seed = 100)\n",
    "        fig = plt.figure()\n",
    "        plt.axis('off')\n",
    "        nx.draw(self.graphe,pos=my_pos, node_color=color_map, node_size=size)\n",
    "        plt.title(str(titre))\n",
    "        plt.savefig(f'./plot/{titre}.png')\n",
    "        # print(f\"{titre} sauvegardé\")\n",
    "        plt.close(fig)\n",
    "        return fig"
   ]
  },
  {
   "cell_type": "code",
   "execution_count": 19,
   "metadata": {},
   "outputs": [],
   "source": [
    "class Agent:\n",
    "    def __init__(self, id_number, accointances) :\n",
    "        self.id_number = id_number\n",
    "        self.accointances = accointances\n",
    "        self.has_it = False\n",
    "\n",
    "    def decide(self, tick) :\n",
    "        j = self.id_number\n",
    "\n",
    "        # On regarde si l'agent malade va guérir ou mourir\n",
    "        if sma.malade[j] == 1 and sma.vivant[j] == 1:\n",
    "            if sma.jour_malade[j] <= sma.incubation:\n",
    "                # Tous les jours, l'agent peut décéder :\n",
    "                sma.vivant[j] = np.random.choice([0,1], 1, p=[sma.gamma,1-sma.gamma])[0]\n",
    "                    # S'il meurt, il n'est plus malade\n",
    "                if sma.vivant[j] == 0:\n",
    "                    sma.malade[j] = 0\n",
    "                    sma.jour_malade[j] += sma.incubation\n",
    "                # ou guérir :\n",
    "                sma.malade[j] = np.random.choice([0,1], 1, p=[sma.delta,1-sma.delta])[0]\n",
    "                if sma.malade[j] == 0:\n",
    "                    sma.jour_malade[j] += sma.incubation\n",
    "                    sma.immunise[j] = 1\n",
    "                # Puis, pour chaque malade on compte 1 jour de plus pour ce tour\n",
    "                sma.jour_malade[j] += 1\n",
    "        \n",
    "        # Après la période d'incubation, l'agent n'est plus malade\n",
    "        if sma.jour_malade[j] > sma.incubation:\n",
    "            sma.malade[j] = 0\n",
    "            sma.immunise[j] = 1\n",
    "\n",
    "        # Si l'agent j est vivant, on regarde s'il peut être contaminé :\n",
    "        # Donc il faut qu'il soit sain et non immunisé\n",
    "        if sma.vivant[j] == 1 and sma.immunise[j] == 0 and sma.malade[j] == 0:\n",
    "            # On regarde tous ces liens et on garde uniquement les contacts\n",
    "            liens = []\n",
    "            contact = []\n",
    "            for i in range(0,len(list(graph.edges(j)))):\n",
    "                # On récupère les agents en lien avec notre agent\n",
    "                # On les met dans un tableau\n",
    "                liens.append(list(graph.edges(j))[i][1])\n",
    "                # On récupère aléatoirement alpha % de ces personnes\n",
    "            for k in range(int(sma.alpha*len(liens))):\n",
    "                valeur_contact = random.randint(0,int(sma.alpha*len(liens)))\n",
    "                contact.append(liens.pop(valeur_contact))\n",
    "            # On fait en sorte que chaque j agents aient au moins 1 contact :\n",
    "            if (contact == []):\n",
    "                contact.append(liens[len(liens)-1])\n",
    "            \n",
    "            # Pour chaque personnes restantes dans les contacts, on regarde si elles sont malades\n",
    "            for i in range(0,len(contact)):\n",
    "                if sma.malade[contact[i]] == 1:\n",
    "                    # Si un contact est malade, il y a beta % chances de contamination pour notre agent j\n",
    "                    sma.malade[j] = np.random.choice([0,1], 1, p=[1-sma.beta,sma.beta])[0]"
   ]
  },
  {
   "cell_type": "code",
   "execution_count": 20,
   "metadata": {},
   "outputs": [
    {
     "name": "stdout",
     "output_type": "stream",
     "text": [
      "Suppression des graphes déjà existant\n",
      "Propagation du virus pour 70 agents et 31 jours.\n",
      "Création des plots pour les graphes sociaux\n",
      "\n",
      "Le temps d'exécution de la simulation est de 5.5066s.\n"
     ]
    }
   ],
   "source": [
    "# Pour la création de graphe sociaux il faut prendre un nombre d'agents et de jours plus faible\n",
    "nb_agents = 70\n",
    "nb_rounds = 31\n",
    "\n",
    "# Choix du type de graphe : \n",
    "graph = nx.barabasi_albert_graph(nb_agents, 1) \n",
    "#graph = nx.complete_graph(nb_agents)\n",
    "#graph = nx.erdos_renyi_graph(nb_agents,0.1)\n",
    "#graph = nx.cycle_graph(nb_agents)\n",
    "#graph = nx.random_regular_graph(3,nb_agents)\n",
    "\n",
    "depart = 0.05 # proportion de personnes contaminées au départ\n",
    "alpha = 0.4 # contact\n",
    "beta = 0.4 # contamination\n",
    "gamma = 0.02 # décès\n",
    "delta = 0.05 # guérison\n",
    "incubation = 12 # période pendant laquelle l'agent est malade\n",
    "\n",
    "matrix = nx.to_numpy_array(graph, nodelist=range(nb_agents))\n",
    "sma = SMA(nb_agents, matrix, graph, depart, alpha, beta, gamma, delta, incubation)\n",
    "\n",
    "# On regarde si des fichiers existe déjà \n",
    "if os.path.exists(\"./plot/Jour_0.png\"):\n",
    "    print(\"Suppression des graphes déjà existant\")\n",
    "    iterator = 0\n",
    "    while (os.path.exists(f\"./plot/Jour_{iterator}.png\")):\n",
    "        os.remove(f\"./plot/Jour_{iterator}.png\")\n",
    "        iterator += 1\n",
    "\n",
    "temps_debut = time.time()\n",
    "print(f\"Propagation du virus pour {nb_agents} agents et {nb_rounds} jours.\")\n",
    "print(\"Création des plots pour les graphes sociaux\")\n",
    "sma.nx_animation.append(sma.draw_graph(\"Jour_0\"))\n",
    "# On lance le jeu\n",
    "sma.run(nb_rounds)\n",
    "\n",
    "temps_fin = time.time()\n",
    "print(f\"\\nLe temps d'exécution de la simulation est de {round(temps_fin-temps_debut,4)}s.\")"
   ]
  },
  {
   "cell_type": "code",
   "execution_count": 21,
   "metadata": {},
   "outputs": [],
   "source": [
    "# Création du gif :\n",
    "frames = []\n",
    "duration = 700\n",
    "imgs = glob.glob(\"./plot/J*.png\")\n",
    "for i in range(0,len(imgs)):\n",
    "    new_frame = Image.open(f\"./plot/Jour_{i}.png\")\n",
    "    frames.append(new_frame)\n",
    "\n",
    "frames[0].save('./plot/networkx.gif', format='GIF',\n",
    "               append_images=frames[1:],\n",
    "               save_all=True,\n",
    "               duration=duration, loop=0)"
   ]
  },
  {
   "cell_type": "markdown",
   "metadata": {},
   "source": [
    "### Sources <a class=\"anchor\" id=\"s\"></a>"
   ]
  },
  {
   "cell_type": "markdown",
   "metadata": {},
   "source": [
    "[Table des matières](#tdm)"
   ]
  },
  {
   "cell_type": "markdown",
   "metadata": {},
   "source": [
    "Utilisation de la mémoire dans une classe en Python :\n",
    "https://habr.com/en/post/458518/ \n",
    "\n",
    "Réduction de la mémoire dans un dataset :\n",
    "https://www.kaggle.com/gemartin/load-data-reduce-memory-usage\n",
    "\n",
    "Réduction de la mémoire dans un array numpy : https://pythonspeed.com/articles/numpy-memory-footprint/\n",
    "\n",
    "Population française selon l'age et le sexe en 2020 : https://www.insee.fr/fr/statistiques/2381474\n",
    "\n",
    "Obésite en France en 2012 : https://www.roche.fr/fr/innovation-recherche-medicale/decouverte-scientifique-medicale/cardio-metabolisme/enquete-nationale-obepi-2012.html\n",
    "\n",
    "Groupes sanguins en France : https://www.ints.fr/SangTransfGrSanguin.aspx"
   ]
  }
 ],
 "metadata": {
  "kernelspec": {
   "display_name": "Python 3",
   "language": "python",
   "name": "python3"
  },
  "language_info": {
   "codemirror_mode": {
    "name": "ipython",
    "version": 3
   },
   "file_extension": ".py",
   "mimetype": "text/x-python",
   "name": "python",
   "nbconvert_exporter": "python",
   "pygments_lexer": "ipython3",
   "version": "3.8.5"
  }
 },
 "nbformat": 4,
 "nbformat_minor": 4
}
