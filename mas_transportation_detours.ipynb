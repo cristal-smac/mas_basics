{
 "cells": [
  {
   "cell_type": "code",
   "execution_count": 1,
   "metadata": {},
   "outputs": [],
   "source": [
    "import networkx as nx\n",
    "import random as random\n",
    "import matplotlib.pyplot as plt\n",
    "import itertools\n",
    "import numpy as np\n",
    "from timeit import default_timer as timer\n",
    "from math import ceil, floor\n",
    "import copy\n",
    "import pandas as pd\n",
    "\n",
    "from mas_transportation_utils import *"
   ]
  },
  {
   "cell_type": "markdown",
   "metadata": {},
   "source": [
    "## Index des variables \n",
    "G = road graph\n",
    "\n",
    "SPL = shortest path length\n",
    "\n",
    "range = perception/domaine de recherche"
   ]
  },
  {
   "cell_type": "code",
   "execution_count": 5,
   "metadata": {},
   "outputs": [
    {
     "ename": "SyntaxError",
     "evalue": "invalid syntax (<ipython-input-5-24eb2f683efb>, line 99)",
     "output_type": "error",
     "traceback": [
      "\u001b[0;36m  File \u001b[0;32m\"<ipython-input-5-24eb2f683efb>\"\u001b[0;36m, line \u001b[0;32m99\u001b[0m\n\u001b[0;31m    else :\u001b[0m\n\u001b[0m       ^\u001b[0m\n\u001b[0;31mSyntaxError\u001b[0m\u001b[0;31m:\u001b[0m invalid syntax\n"
     ]
    }
   ],
   "source": [
    "class Agent:\n",
    "    def __init__(self, unique_id):\n",
    "        self.is_alive = True\n",
    "        self.unique_id = unique_id\n",
    "    \n",
    "    def update(self) -> None:\n",
    "        pass\n",
    "    \n",
    "    def decide(self) -> None:\n",
    "        pass\n",
    "    \n",
    "class UserAgent(Agent):\n",
    "    def __init__(self, unique_id, v_dep, v_arr):\n",
    "        super().__init__(unique_id)\n",
    "        self.v_dep = v_dep\n",
    "        self.v_r = v_dep\n",
    "        self.v_arr = v_arr\n",
    "        \n",
    "        #calcul de la longueur du plus court chemin à l'origine\n",
    "        self.SPL = nx.shortest_path_length(sma.G, source=self.v_dep, target=self.v_arr)\n",
    "    \n",
    "    def update(self) -> None:\n",
    "        pass\n",
    "    \n",
    "    def decide(self) -> None:\n",
    "        pass\n",
    "        \n",
    "        \n",
    "        \n",
    "\n",
    "class RiderAgent(UserAgent):\n",
    "    def __init__(self, unique_id, v_dep, v_arr, detour_coef, max_wt):\n",
    "        super().__init__(unique_id, v_dep, v_arr)\n",
    "             \n",
    "        #preferences\n",
    "        self.detour_coef = detour_coef #coef max de détour\n",
    "        self.max_wt = max_wt #temps d'attente max avant annulation de la demande, coef aussi ?\n",
    "        self.wt = 0\n",
    "        self.l_arr_tick = sma.tick + self.SPL + int(self.SPL*detour_coef) '''ajout wt?'''\n",
    "        #True si agent servi avec un itinéraire prévu sinon Faux\n",
    "        self.served = False\n",
    "        \n",
    "        self.node_range = self.compute_detour_node_range(self.v_dep, self.v_arr, self.l_arr_tick - sma.tick)\n",
    "        self.wt_radius = self.compute_wt_node_range(self.v_dep)\n",
    "        \n",
    "    def compute_wt_node_range(self, source):\n",
    "        return list(nx.ego_graph(G, source, self.max_wt - self.wt))\n",
    "        \n",
    "    def compute_detour_node_range(self, source, target, l_arr):\n",
    "        #retourne les noeuds présents dans une ellipse\n",
    "        paths = list(nx.all_simple_paths(sma.G, source=source, target=target, cutoff=l_arr))\n",
    "        return set([item for sublist in paths for item in sublist])\n",
    "    \n",
    "    def evaluate_trip_sharing(trip_share_tuple):\n",
    "        #on ferai un genre de tuple comme dans le papier Xu et Al. 2020\n",
    "        #tuple = (conducteur1, conducteur2, noeud de transition)\n",
    "        # pour la généricité si one hop trip : tuple = (conducteur1, conducteur2=None,trans=None)?\n",
    "        #puis on calcul la différence entre d.len(trip_base) et d.len(trip_new) etc ?\n",
    "        '''TODO'''\n",
    "        pass\n",
    "        \n",
    "        \n",
    "    def update(self):\n",
    "        #si pas encore servi\n",
    "        if not self.served:\n",
    "            self.node_range = self.compute_detour_node_range(self.v_dep, self.v_arr, self.l_arr_tick - sma.tick)\n",
    "            self.wt_radius = self.compute_wt_node_range(self.v_dep)\n",
    "                \n",
    "            ####### Phase d'identification des candidats\n",
    "            #conducteurs passant par le noeud de départ de r et présent dans son cercle d'attente\n",
    "            match_start_drivers = set(msd for msd in sma.getTSAs[0].get_drivers_from_node(self.v_dep) if msd.v_r in self.wt_radius)\n",
    "            \n",
    "            match_end_drivers = sma.getTSAs[0].get_drivers_from_node(self.v_arr)\n",
    "            \n",
    "            #si il n'y a pas de conducteurs dispo au départ ou à l'arriver\n",
    "            #on ne pourra de toute façon rien faire ce tour si\n",
    "            if (not match_start_drivers) or (not match_end_drivers):\n",
    "                self.wt+=1\n",
    "                return\n",
    "            #pour l'instant on part du principe que un one_hop_match est meilleur qu'un two_hop_match\n",
    "            one_hop_matched = match_start_drivers & match_end_drivers\n",
    "            #si il n'y a pas de one hop match\n",
    "            if not one_hop_matched:\n",
    "                two_hop_matched = [] #on ajoutera des tuples du type : (d1, d2, noeud de transition)\n",
    "                #alors on va chercher si il y a des combinaisons possibles entre les deux sets\n",
    "                for msd in match_start_drivers:\n",
    "                    candidate_nodes = sma.getTSAs[0].get_nodes_from_driver(msd) & node_range\n",
    "                    for candidate_node in candidate_nodes:\n",
    "                        candidate_drivers = sma.getTSAs[0].get_drivers_from_node(candidate_node) & match_end_drivers\n",
    "                        for candidate_driver in candidate_drivers :\n",
    "                            two_hop_matched.append((msd, candidate_driver, candidate_node))\n",
    "                        '''TODO VERIF TEMPS'''\n",
    "            ####### Phase de filtrage (contraintes)\n",
    "            \n",
    "            ####### Phase de selection (optimisation)\n",
    "            \n",
    "            '''Peut être merge les trois phases ?'''\n",
    "                    \n",
    "                \n",
    "            \n",
    "            else :\n",
    "                #on a des one_hop match possible\n",
    "                if len(one_hop_matched) == 1:\n",
    "                    #on a un seul match, du coup on prends celui là si ok temps\n",
    "                    '''TODO VERIF TEMPS'''\n",
    "                    \n",
    "                    driver = list(one_hop_matched)[0]\n",
    "                else :\n",
    "                    '''TODO VERIF TEMPS'''\n",
    "                    pass\n",
    "                    #il faut choisir le meilleur \n",
    "                    #on fonction de quoi ? TODO (dans un premier temps dist totale supple)\n",
    "        else:\n",
    "            '''TODO si servi alors on suit litineraire ? verif noeud de transition pour changement etc'''\n",
    "            pass\n",
    "            \n",
    "    \n",
    "    def decide(self):\n",
    "        pass\n",
    "            \n",
    "        \n",
    "class TransportServiceAgent(Agent):\n",
    "    #tsa : agent blackboard\n",
    "    def __init__(self, unique_id):\n",
    "        super().__init__(unique_id)\n",
    "        self.nodes_to_drivers = dict()\n",
    "        for node in list(sma.G.nodes):\n",
    "            self.nodes_to_drivers[node] = set()\n",
    "        self.drivers_to_nodes = dict()\n",
    "        \n",
    "    \n",
    "     \n",
    "    def update_driver_data(self, d):\n",
    "        if d.is_alive == False:\n",
    "            for node in self.drivers_to_nodes[d]:\n",
    "                self.nodes_to_drivers[node].remove(d)\n",
    "            del self.drivers_to_nodes[d]\n",
    "            \n",
    "        else :\n",
    "            node_set = set([item for sublist in d.node_ranges for item in sublist])\n",
    "            print(\"node set\",node_set)\n",
    "            print(\"d nodes ranges\",d.node_ranges)\n",
    "            if d in self.drivers_to_nodes.keys() :\n",
    "                #noeuds à retirer\n",
    "                old_nodes = self.drivers_to_nodes[d] - node_set\n",
    "                #noeuds à ajouter\n",
    "                new_nodes = node_set - self.drivers_to_nodes[d]\n",
    "\n",
    "                for old_node in old_nodes:\n",
    "                    self.nodes_to_drivers[old_node].remove(d)\n",
    "\n",
    "                for new_node in new_nodes:\n",
    "                    self.nodes_to_drivers[new_node].add(d)\n",
    "            else :\n",
    "                for node in node_set:\n",
    "                    self.nodes_to_drivers[node].add(d)\n",
    "\n",
    "\n",
    "            self.drivers_to_nodes[d] = node_set\n",
    "            \n",
    "    def get_drivers_from_node(self, node):\n",
    "        \n",
    "        return self.nodes_to_drivers[node]\n",
    "    \n",
    "    def get_nodes_from_driver(self,driver):\n",
    "        \n",
    "        return self.drivers_to_nodes[driver]\n",
    "    \n",
    "    def update(self):\n",
    "        print(\"nodes to drivers\",self.nodes_to_drivers)\n",
    "        print(\"drivers to nodes\",self.drivers_to_nodes)\n",
    "        pass\n",
    "    \n",
    "    def decide(self):\n",
    "        pass"
   ]
  },
  {
   "cell_type": "code",
   "execution_count": null,
   "metadata": {},
   "outputs": [],
   "source": []
  },
  {
   "cell_type": "code",
   "execution_count": 30,
   "metadata": {},
   "outputs": [
    {
     "data": {
      "text/plain": [
       "{2, 3}"
      ]
     },
     "execution_count": 30,
     "metadata": {},
     "output_type": "execute_result"
    }
   ],
   "source": []
  },
  {
   "cell_type": "code",
   "execution_count": null,
   "metadata": {},
   "outputs": [],
   "source": []
  },
  {
   "cell_type": "code",
   "execution_count": 3,
   "metadata": {},
   "outputs": [],
   "source": [
    "class DriverAgent(UserAgent):\n",
    "    def __init__(self, unique_id, v_dep, v_arr, detour_coef, capacity=3):\n",
    "        super().__init__(unique_id, v_dep, v_arr)\n",
    "        self.c = capacity\n",
    "        self.trip = nx.shortest_path(sma.G, source=self.v_dep, target=self.v_arr)[1:]\n",
    "        #initialisation de la perception\n",
    "        self.detour_coef = detour_coef\n",
    "        self.l_arr_tick = sma.tick + self.SPL + int(self.SPL*detour_coef)\n",
    "        \n",
    "        #tableaux du scheduling S\n",
    "        self.arr = [self.SPL]\n",
    "        self.ddl = [self.l_arr_tick]\n",
    "        self.slk = [self.ddl[0]-self.arr[0]]\n",
    "        \n",
    "        self.stops = [v_arr] #tableau référençant les noeuds avec arrêts obligatoire \n",
    "                             #(noeuds de recup et de dépot des passagers et noeud d'arrivé du conducteur)\n",
    "        self.capacities = [capacity]\n",
    "        self.tag_event = False\n",
    "        \n",
    "        self.node_ranges = [] #les ellipses\n",
    "        self.node_ranges.append(self.compute_detour_node_range(self.v_dep, self.v_arr, \n",
    "                                                                self.l_arr_tick - sma.tick))\n",
    "        \n",
    "    def compute_detour_node_range(self, source, target, l_arr):\n",
    "        #retourne les noeuds présents dans une ellipse\n",
    "        paths = list(nx.all_simple_paths(sma.G, source=source, target=target, cutoff=l_arr))\n",
    "        return set([item for sublist in paths for item in sublist])\n",
    "        \n",
    "    def compute_all_detour_node_ranges(self):\n",
    "        self.node_ranges = []\n",
    "        self.node_ranges.append(self.compute_detour_node_range(self.v_r, self.stops[0],\n",
    "                                                           (self.arr[0] - sma.tick) + self.slk[0]))\n",
    "            \n",
    "        for i in range(len(self.stops)-1):\n",
    "            self.node_ranges.append(self.compute_detour_node_range(self.stops[i], self.stops[i+1], \n",
    "                                                               (self.arr[i+1] - sma.tick - self.arr[i]) + self.slk[i+1]))\n",
    "         \n",
    "        \n",
    "    def to_string(self):\n",
    "        print(\"I am driver\",self.unique_id,\"- trip:\",self.trip)\n",
    "        \n",
    "      \n",
    "    def check_faisability(self, rider, r_v1, r_v2, dl_v1, dl_v2):\n",
    "        if dl_v1 > self.ddl[-1] or dl_v2 > self.ddl[-1]:\n",
    "            return False\n",
    "            \n",
    "        driver_scope = set([item for sublist in self.node_ranges for item in sublist])\n",
    "        \n",
    "        if r_v1 not in driver_scope or r_v2 not in driver_scope:\n",
    "            return False\n",
    "        \n",
    "        \n",
    "        v1_ellipses_index = [index in index for range(len(driver_scope) if r_v1 in driver_scope[index])]\n",
    "        v2_ellipses_index = [index in index for range(len(driver_scope) if r_v2 in driver_scope[index])]\n",
    "                            \n",
    "        for index in v1_ellipses_index :\n",
    "            if index == 0:\n",
    "                new_trip_time = sma.tick + nx.shortest_path_length(sma.G, self.v_r, r_v1) \n",
    "                             + nx.shortest_path_length(sma.G, r_v1, self.stops[0])\n",
    "                \n",
    "                if new_trip_time <= self.ddl[0] and self.capacities[0] > 0:\n",
    "                    \n",
    "                             \n",
    "                             \n",
    "                             \n",
    "            else :\n",
    "                new_trip_time = self.arr[-1] + nx.shortest_path_length(sma.G, self.v_r, r_v1) \n",
    "                             + nx.shortest_path_length(sma.G, r_v1, self.stops[index])\n",
    "                \n",
    "                if new_trip_time <= self.ddl[index] and self.capacities[index] > 0:\n",
    "                             \n",
    "                             \n",
    "                             \n",
    "        return True                \n",
    "        \n",
    "        \n",
    "    def add_rider_to_scheduler(self, rider, r_v1, r_v2, dl_v1, dl_v2):\n",
    "        '''A terme deviendra surement une verif avant modification, donc avec un return'''\n",
    "        #on ajoute le passager au scheduler, on met a jour le trip et la capacité\n",
    "        \n",
    "        #########checks##############\n",
    "        if dl_v1 > self.ddl[-1] or dl_v2 > self.ddl[-1]:\n",
    "            raise Exception(\"Rider's deadline should be lower than driver's deadline, subject to change\")\n",
    "            \n",
    "        driver_scope = set([item for sublist in self.node_ranges for item in sublist])\n",
    "        if r_v1 not in driver_scope or r_v2 not in driver_scope:\n",
    "            raise Exception(\"Rider's nodes should be in the driver's scope\")\n",
    "        #############################    \n",
    "            \n",
    "        for i in range(len(self.ddl)) :\n",
    "            if dl_v1 <= self.ddl[i] :\n",
    "                self.ddl.insert(i, dl_v1)\n",
    "                self.stops.insert(i, r_v1)\n",
    "                if i == 0:\n",
    "                    self.capacities.insert(i, self.c - 1)\n",
    "                else : \n",
    "                    self.capacities.insert(i, self.capacities[i-1]-1)\n",
    "                for j in range(len(self.ddl[i:])):\n",
    "                    if dl_v2 <= self.ddl[j] :\n",
    "                        self.ddl.insert(j, dl_v2)\n",
    "                        self.stops.insert(j, r_v2)\n",
    "                        self.capacities.insert(j, self.capacities[i-1]+1)\n",
    "                        break\n",
    "                break\n",
    "                \n",
    "        #puis on recalcule le chemin le plus court et la marge (skl = slack time)\n",
    "        \n",
    "        #pour le premier on se base sur le noeud courant\n",
    "        self.arr = []\n",
    "        dif = []\n",
    "        \n",
    "        self.arr.append(sma.tick + nx.shortest_path_length(sma.G, self.v_r, self.stops[0]))\n",
    "        dif.append(self.ddl[0] - self.arr[0])\n",
    "        \n",
    "        for i in range(len(self.stops)-1):\n",
    "            self.arr.append(self.arr[i] + nx.shortest_path_length(sma.G, self.stops[i], self.stops[i+1]))\n",
    "            dif.append(self.ddl[i+1] - self.arr[i+1])\n",
    "        \n",
    "        #calcul marge dépendante des marges suivantes\n",
    "        self.slk = []\n",
    "        for i in range(len(dif)):\n",
    "            self.slk.append(np.min(dif[i:]))\n",
    "        \n",
    "        self.tag_event = True\n",
    "        \n",
    "        \n",
    "        \n",
    "    def update(self) :\n",
    "        if self.tag_event == True:\n",
    "            self.compute_all_detour_node_ranges()\n",
    "            self.trip = nx.shortest_path(sma.G, self.v_r, self.stops[0])[1:]\n",
    "            self.tag_event = False\n",
    "        else : \n",
    "            self.node_ranges[0] = self.compute_detour_node_range(self.v_r, self.stops[0],\n",
    "                                                           (self.arr[0] - sma.tick) + self.slk[0])\n",
    "        \n",
    "        #le conducteur informe l'agent TSA de sa perception, l'agent blackboard\n",
    "        #pour le moment un seul TSA, on verra plus tard si on en mets plusieurs\n",
    "        #il faudra alors pour chaque noeud de la perception identifier le TSA responsable\n",
    "        sma.getTSAs()[0].update_driver_data(self)\n",
    "        \n",
    "    \n",
    "    def decide(self) : \n",
    "        #l'agent bouge\n",
    "        #si on arrive pas au bout du subtrip, on avance\n",
    "        if len(self.trip)>1:\n",
    "            if sma.verbose == True:\n",
    "                print(\"Driver\",self.unique_id,\"move from\",self.v_r,\"to\",self.trip[0])\n",
    "            self.v_r = self.trip.pop(0)\n",
    "            \n",
    "        #sinon il faut determiner si le conducteur est arrivé à destination ou si c'est la fin d'une étape        \n",
    "        else :\n",
    "            if self.trip[0] == self.v_arr :\n",
    "                self.is_alive = False\n",
    "                sma.getTSAs()[0].update_driver_data(self)\n",
    "                if sma.verbose == True:\n",
    "                    print(\"Driver\",self.unique_id,\"arrived\")\n",
    "            else :\n",
    "                if sma.verbose == True:\n",
    "                    print(\"Driver\",self.unique_id,\"move from\",self.v_r,\"to\",self.trip[0])\n",
    "                self.v_r = self.trip[0]\n",
    "                self.arr.pop(0)\n",
    "                self.slk.pop(0)\n",
    "                self.ddl.pop(0)\n",
    "                self.capacities.pop(0)\n",
    "                self.node_ranges.pop(0)\n",
    "                self.stops.pop(0)\n",
    "                self.trip = nx.shortest_path(sma.G, self.v_r, self.stops[0])[1:]\n",
    "            "
   ]
  },
  {
   "cell_type": "markdown",
   "metadata": {},
   "source": [
    "# SMA\n",
    "* peut être faire 3 dictionnaires d'agents : 1 avec tout les agents, 1 avec les conducteurs et 1 avec les passagers ?"
   ]
  },
  {
   "cell_type": "code",
   "execution_count": 4,
   "metadata": {},
   "outputs": [],
   "source": [
    "import random\n",
    "class SMA:\n",
    "    def __init__(self, verbose=False):\n",
    "        self.tick=0\n",
    "        self.resetTicks()\n",
    "        \n",
    "        self.agentTypeIdDict = {}\n",
    "        self.agentTypeIdDict[\"drivers\"] = []\n",
    "        self.agentTypeIdDict[\"riders\"] = []\n",
    "        self.agentTypeIdDict[\"tsas\"] = []\n",
    "        self.agentTypeIdDict[\"tgas\"] = []\n",
    "        \n",
    "        self.agentDict = {}\n",
    "        \n",
    "        self.G = None\n",
    "        self.verbose = verbose\n",
    "\n",
    "    def resetTicks(self):\n",
    "        self.tick=0\n",
    "          \n",
    "    def setRoadGraph(self,graph):\n",
    "        self.G = graph\n",
    "        \n",
    "    def addAgent(self,ag):\n",
    "        self.agentDict[ag.unique_id] = ag\n",
    "        if \"RiderAgent\" in ag.__class__.__name__:\n",
    "            self.agentTypeIdDict[\"riders\"].append(ag.unique_id)\n",
    "        elif \"DriverAgent\" in ag.__class__.__name__:\n",
    "            self.agentTypeIdDict[\"drivers\"].append(ag.unique_id)\n",
    "        elif \"TransportServiceAgent\" in ag.__class__.__name__:\n",
    "            self.agentTypeIdDict[\"tsas\"].append(ag.unique_id)\n",
    "        elif \"TransportGeneratorAgent\" in ag.__class__.__name__:\n",
    "            self.agentTypeIdDict[\"tgas\"].append(ag.unique_id)\n",
    "        else: raise Exception(ag.__class__.__name__,\"is a wrong type of agent.\")\n",
    "            \n",
    "            \n",
    "    def getAgentFromId(self, unique_id):\n",
    "        return self.agentDict[unique_id]\n",
    "    \n",
    "    def getRiders(self):\n",
    "        R = []\n",
    "        for r in self.agentTypeIdDict['riders']:\n",
    "            R.append(self.agentDict[r])\n",
    "        return R\n",
    "        \n",
    "    def getDrivers(self):\n",
    "        D = []\n",
    "        for d in self.agentTypeIdDict['drivers']:\n",
    "            D.append(self.agentDict[d])\n",
    "        return D\n",
    "        \n",
    "    def getTSAs(self):\n",
    "        TSA = []\n",
    "        for tsa in self.agentTypeIdDict['tsas']:\n",
    "            TSA.append(self.agentDict[tsa])\n",
    "        return TSA\n",
    "    \n",
    "    def getTGAs(self):\n",
    "        TGA = []\n",
    "        for tga in self.agentTypeIdDict['tgas']:\n",
    "            TGA.append(self.agentDict[tga])\n",
    "        return TGA\n",
    "        \n",
    " \n",
    "    def run(self,rounds=None):\n",
    "        if rounds==None:\n",
    "            #on s'arrete si tout les passagers ou tout les conducteurs sont arrivés\n",
    "            self.runOnce()\n",
    "            while len([agent for agent in sma.agentDict.values() if (\"RiderAgent\" in agent.__class__.__name__)]) > 0 and len([agent for agent in sma.agentDict.values() if (\"DriverAgent\" in agent.__class__.__name__)]) > 0:\n",
    "                self.runOnce()\n",
    "            #print(\"Finished in\",self.tick,\"ticks\")\n",
    "        \n",
    "        else :\n",
    "            #génération classique\n",
    "            for i in range(0,rounds):\n",
    "                self.runOnce()\n",
    "\n",
    "    def runOnce(self):\n",
    "        self.tick+=1\n",
    "        #random.shuffle(self.agentList)\n",
    "        for ag in self.agentDict.values() :\n",
    "            print(ag.unique_id)\n",
    "            ag.update()\n",
    "            ag.decide()\n",
    "        \n",
    "        #phase de nettoyage des agents morts\n",
    "        for ag in self.agentDict.copy().values():\n",
    "            if ag.is_alive == False:\n",
    "                if \"RiderAgent\" in ag.__class__.__name__:\n",
    "                    self.agentTypeIdDict[\"riders\"].removre(ag.unique_id)\n",
    "                elif \"DriverAgent\" in ag.__class__.__name__:\n",
    "                    self.agentTypeIdDict[\"drivers\"].remove(ag.unique_id)\n",
    "                elif \"TransportServiceAgent\" in ag.__class__.__name__:\n",
    "                    self.agentTypeIdDict[\"tsas\"].remove(ag.unique_id)\n",
    "                elif \"TransportGeneratorAgent\" in ag.__class__.__name__:\n",
    "                    self.agentTypeIdDict[\"tgas\"].remove(ag.unique_id)\n",
    "                else: raise Exception(ag.__class__.__name__,\"is a wrong type of agent, even if diying.\")\n",
    "                \n",
    "                self.agentDict.pop(ag.unique_id)\n",
    "                \n",
    "                \n",
    "        if self.verbose == True:      \n",
    "            print(\"tick\",str(self.tick),\"ended\")"
   ]
  },
  {
   "cell_type": "markdown",
   "metadata": {},
   "source": [
    "# ESSAI PERCEPTION"
   ]
  },
  {
   "cell_type": "code",
   "execution_count": 31,
   "metadata": {},
   "outputs": [
    {
     "name": "stderr",
     "output_type": "stream",
     "text": [
      "/home/fevrec/Applications/anaconda3/lib/python3.7/site-packages/networkx/drawing/nx_pylab.py:579: MatplotlibDeprecationWarning: \n",
      "The iterable function was deprecated in Matplotlib 3.1 and will be removed in 3.3. Use np.iterable instead.\n",
      "  if not cb.iterable(width):\n",
      "/home/fevrec/Applications/anaconda3/lib/python3.7/site-packages/networkx/drawing/nx_pylab.py:676: MatplotlibDeprecationWarning: \n",
      "The iterable function was deprecated in Matplotlib 3.1 and will be removed in 3.3. Use np.iterable instead.\n",
      "  if cb.iterable(node_size):  # many node sizes\n"
     ]
    },
    {
     "data": {
      "image/png": "[encoded data removed]",
      "text/plain": [
       "<Figure size 432x288 with 1 Axes>"
      ]
     },
     "metadata": {},
     "output_type": "display_data"
    }
   ],
   "source": [
    "SIZE_MAP = 5\n",
    "PER_PERTURB_MAP = 0\n",
    "MAX_NB_DRIVERS = np.arange(5,500,50)\n",
    "MAX_NB_RIDERS = 100\n",
    "NB_RUN = 1000\n",
    "SEED = [1,6,42,69,48,100,26,35,89,663,559,478,452,236,5789,555,666,777,888,999,111,222,333,444,555]\n",
    "#NB_REP = len(SEED)\n",
    "\n",
    "#riders_types=['naive','retag','retag_risky']\n",
    "riders_types=['naive','retag']\n",
    "results = []\n",
    "\n",
    "G = generate_2D_graph(SIZE_MAP, coef_suppr=PER_PERTURB_MAP, show=True)"
   ]
  },
  {
   "cell_type": "code",
   "execution_count": 72,
   "metadata": {},
   "outputs": [
    {
     "data": {
      "text/plain": [
       "2"
      ]
     },
     "execution_count": 72,
     "metadata": {},
     "output_type": "execute_result"
    }
   ],
   "source": [
    "nx.shortest_path_length(G, (0,0), (0,2))\n"
   ]
  },
  {
   "cell_type": "code",
   "execution_count": 56,
   "metadata": {},
   "outputs": [],
   "source": [
    "sma = SMA()\n",
    "sma.setRoadGraph(G)\n",
    "sma.tick = 253\n",
    "source = (1,0)\n",
    "target = (3,2)\n",
    "d1 = DriverAgent(1, source, target, 0.5)"
   ]
  },
  {
   "cell_type": "code",
   "execution_count": 57,
   "metadata": {},
   "outputs": [],
   "source": [
    "diction = dict()\n",
    "diction[d1] = 'lol'"
   ]
  },
  {
   "cell_type": "code",
   "execution_count": 58,
   "metadata": {},
   "outputs": [
    {
     "data": {
      "text/plain": [
       "True"
      ]
     },
     "execution_count": 58,
     "metadata": {},
     "output_type": "execute_result"
    }
   ],
   "source": [
    "d1 in diction.keys()"
   ]
  },
  {
   "cell_type": "code",
   "execution_count": 59,
   "metadata": {},
   "outputs": [
    {
     "data": {
      "image/png": "[encoded data removed]",
      "text/plain": [
       "<Figure size 432x288 with 1 Axes>"
      ]
     },
     "metadata": {},
     "output_type": "display_data"
    },
    {
     "data": {
      "text/plain": [
       "[{(0, 0),\n",
       "  (0, 1),\n",
       "  (0, 2),\n",
       "  (1, 0),\n",
       "  (1, 1),\n",
       "  (1, 2),\n",
       "  (1, 3),\n",
       "  (2, 0),\n",
       "  (2, 1),\n",
       "  (2, 2),\n",
       "  (2, 3),\n",
       "  (3, 0),\n",
       "  (3, 1),\n",
       "  (3, 2),\n",
       "  (3, 3),\n",
       "  (4, 0),\n",
       "  (4, 1),\n",
       "  (4, 2)}]"
      ]
     },
     "execution_count": 59,
     "metadata": {},
     "output_type": "execute_result"
    }
   ],
   "source": [
    "print_user_perception(d1, sma.G)\n",
    "d1.node_ranges"
   ]
  },
  {
   "cell_type": "code",
   "execution_count": 60,
   "metadata": {},
   "outputs": [
    {
     "data": {
      "text/plain": [
       "[259]"
      ]
     },
     "execution_count": 60,
     "metadata": {},
     "output_type": "execute_result"
    }
   ],
   "source": [
    "d1.ddl"
   ]
  },
  {
   "cell_type": "markdown",
   "metadata": {},
   "source": [
    "#### Test exception 1"
   ]
  },
  {
   "cell_type": "code",
   "execution_count": 61,
   "metadata": {},
   "outputs": [
    {
     "ename": "Exception",
     "evalue": "Rider's nodes should be in the driver's scope",
     "output_type": "error",
     "traceback": [
      "\u001b[0;31m---------------------------------------------------------------------------\u001b[0m",
      "\u001b[0;31mException\u001b[0m                                 Traceback (most recent call last)",
      "\u001b[0;32m<ipython-input-61-04ffd8c4f1df>\u001b[0m in \u001b[0;36m<module>\u001b[0;34m\u001b[0m\n\u001b[0;32m----> 1\u001b[0;31m \u001b[0md1\u001b[0m\u001b[0;34m.\u001b[0m\u001b[0madd_rider_to_scheduler\u001b[0m\u001b[0;34m(\u001b[0m\u001b[0;32mNone\u001b[0m\u001b[0;34m,\u001b[0m \u001b[0;34m(\u001b[0m\u001b[0;36m1\u001b[0m\u001b[0;34m,\u001b[0m\u001b[0;36m1\u001b[0m\u001b[0;34m)\u001b[0m\u001b[0;34m,\u001b[0m \u001b[0;34m(\u001b[0m\u001b[0;36m1\u001b[0m\u001b[0;34m,\u001b[0m\u001b[0;36m4\u001b[0m\u001b[0;34m)\u001b[0m\u001b[0;34m,\u001b[0m \u001b[0;36m1\u001b[0m\u001b[0;34m,\u001b[0m \u001b[0;36m5\u001b[0m\u001b[0;34m)\u001b[0m\u001b[0;34m\u001b[0m\u001b[0;34m\u001b[0m\u001b[0m\n\u001b[0m",
      "\u001b[0;32m<ipython-input-3-acd0a4f70704>\u001b[0m in \u001b[0;36madd_rider_to_scheduler\u001b[0;34m(self, rider, r_v1, r_v2, dl_v1, dl_v2)\u001b[0m\n\u001b[1;32m     50\u001b[0m         \u001b[0mdriver_scope\u001b[0m \u001b[0;34m=\u001b[0m \u001b[0mset\u001b[0m\u001b[0;34m(\u001b[0m\u001b[0;34m[\u001b[0m\u001b[0mitem\u001b[0m \u001b[0;32mfor\u001b[0m \u001b[0msublist\u001b[0m \u001b[0;32min\u001b[0m \u001b[0mself\u001b[0m\u001b[0;34m.\u001b[0m\u001b[0mnode_ranges\u001b[0m \u001b[0;32mfor\u001b[0m \u001b[0mitem\u001b[0m \u001b[0;32min\u001b[0m \u001b[0msublist\u001b[0m\u001b[0;34m]\u001b[0m\u001b[0;34m)\u001b[0m\u001b[0;34m\u001b[0m\u001b[0;34m\u001b[0m\u001b[0m\n\u001b[1;32m     51\u001b[0m         \u001b[0;32mif\u001b[0m \u001b[0mr_v1\u001b[0m \u001b[0;32mnot\u001b[0m \u001b[0;32min\u001b[0m \u001b[0mdriver_scope\u001b[0m \u001b[0;32mor\u001b[0m \u001b[0mr_v2\u001b[0m \u001b[0;32mnot\u001b[0m \u001b[0;32min\u001b[0m \u001b[0mdriver_scope\u001b[0m\u001b[0;34m:\u001b[0m\u001b[0;34m\u001b[0m\u001b[0;34m\u001b[0m\u001b[0m\n\u001b[0;32m---> 52\u001b[0;31m             \u001b[0;32mraise\u001b[0m \u001b[0mException\u001b[0m\u001b[0;34m(\u001b[0m\u001b[0;34m\"Rider's nodes should be in the driver's scope\"\u001b[0m\u001b[0;34m)\u001b[0m\u001b[0;34m\u001b[0m\u001b[0;34m\u001b[0m\u001b[0m\n\u001b[0m\u001b[1;32m     53\u001b[0m         \u001b[0;31m#############################\u001b[0m\u001b[0;34m\u001b[0m\u001b[0;34m\u001b[0m\u001b[0;34m\u001b[0m\u001b[0m\n\u001b[1;32m     54\u001b[0m \u001b[0;34m\u001b[0m\u001b[0m\n",
      "\u001b[0;31mException\u001b[0m: Rider's nodes should be in the driver's scope"
     ]
    }
   ],
   "source": [
    "d1.add_rider_to_scheduler(None, (1,1), (1,4), 1, 5)"
   ]
  },
  {
   "cell_type": "markdown",
   "metadata": {},
   "source": [
    "#### Test exception 2"
   ]
  },
  {
   "cell_type": "code",
   "execution_count": 62,
   "metadata": {},
   "outputs": [
    {
     "ename": "Exception",
     "evalue": "Rider's nodes should be in the driver's scope",
     "output_type": "error",
     "traceback": [
      "\u001b[0;31m---------------------------------------------------------------------------\u001b[0m",
      "\u001b[0;31mException\u001b[0m                                 Traceback (most recent call last)",
      "\u001b[0;32m<ipython-input-62-494833ffe88f>\u001b[0m in \u001b[0;36m<module>\u001b[0;34m\u001b[0m\n\u001b[0;32m----> 1\u001b[0;31m \u001b[0md1\u001b[0m\u001b[0;34m.\u001b[0m\u001b[0madd_rider_to_scheduler\u001b[0m\u001b[0;34m(\u001b[0m\u001b[0;32mNone\u001b[0m\u001b[0;34m,\u001b[0m \u001b[0;34m(\u001b[0m\u001b[0;36m1\u001b[0m\u001b[0;34m,\u001b[0m\u001b[0;36m1\u001b[0m\u001b[0;34m)\u001b[0m\u001b[0;34m,\u001b[0m \u001b[0;34m(\u001b[0m\u001b[0;36m1\u001b[0m\u001b[0;34m,\u001b[0m\u001b[0;36m4\u001b[0m\u001b[0;34m)\u001b[0m\u001b[0;34m,\u001b[0m \u001b[0;36m1\u001b[0m\u001b[0;34m,\u001b[0m \u001b[0;36m3\u001b[0m\u001b[0;34m)\u001b[0m\u001b[0;34m\u001b[0m\u001b[0;34m\u001b[0m\u001b[0m\n\u001b[0m",
      "\u001b[0;32m<ipython-input-3-acd0a4f70704>\u001b[0m in \u001b[0;36madd_rider_to_scheduler\u001b[0;34m(self, rider, r_v1, r_v2, dl_v1, dl_v2)\u001b[0m\n\u001b[1;32m     50\u001b[0m         \u001b[0mdriver_scope\u001b[0m \u001b[0;34m=\u001b[0m \u001b[0mset\u001b[0m\u001b[0;34m(\u001b[0m\u001b[0;34m[\u001b[0m\u001b[0mitem\u001b[0m \u001b[0;32mfor\u001b[0m \u001b[0msublist\u001b[0m \u001b[0;32min\u001b[0m \u001b[0mself\u001b[0m\u001b[0;34m.\u001b[0m\u001b[0mnode_ranges\u001b[0m \u001b[0;32mfor\u001b[0m \u001b[0mitem\u001b[0m \u001b[0;32min\u001b[0m \u001b[0msublist\u001b[0m\u001b[0;34m]\u001b[0m\u001b[0;34m)\u001b[0m\u001b[0;34m\u001b[0m\u001b[0;34m\u001b[0m\u001b[0m\n\u001b[1;32m     51\u001b[0m         \u001b[0;32mif\u001b[0m \u001b[0mr_v1\u001b[0m \u001b[0;32mnot\u001b[0m \u001b[0;32min\u001b[0m \u001b[0mdriver_scope\u001b[0m \u001b[0;32mor\u001b[0m \u001b[0mr_v2\u001b[0m \u001b[0;32mnot\u001b[0m \u001b[0;32min\u001b[0m \u001b[0mdriver_scope\u001b[0m\u001b[0;34m:\u001b[0m\u001b[0;34m\u001b[0m\u001b[0;34m\u001b[0m\u001b[0m\n\u001b[0;32m---> 52\u001b[0;31m             \u001b[0;32mraise\u001b[0m \u001b[0mException\u001b[0m\u001b[0;34m(\u001b[0m\u001b[0;34m\"Rider's nodes should be in the driver's scope\"\u001b[0m\u001b[0;34m)\u001b[0m\u001b[0;34m\u001b[0m\u001b[0;34m\u001b[0m\u001b[0m\n\u001b[0m\u001b[1;32m     53\u001b[0m         \u001b[0;31m#############################\u001b[0m\u001b[0;34m\u001b[0m\u001b[0;34m\u001b[0m\u001b[0;34m\u001b[0m\u001b[0m\n\u001b[1;32m     54\u001b[0m \u001b[0;34m\u001b[0m\u001b[0m\n",
      "\u001b[0;31mException\u001b[0m: Rider's nodes should be in the driver's scope"
     ]
    }
   ],
   "source": [
    "d1.add_rider_to_scheduler(None, (1,1), (1,4), 1, 3)"
   ]
  },
  {
   "cell_type": "markdown",
   "metadata": {},
   "source": [
    "#### Ajout d'un passager"
   ]
  },
  {
   "cell_type": "code",
   "execution_count": 63,
   "metadata": {},
   "outputs": [
    {
     "data": {
      "text/plain": [
       "[(1, 1), (3, 1), (3, 2)]"
      ]
     },
     "execution_count": 63,
     "metadata": {},
     "output_type": "execute_result"
    }
   ],
   "source": [
    "d1.add_rider_to_scheduler(None, (1,1), (3,1), 254, 256)\n",
    "d1.stops"
   ]
  },
  {
   "cell_type": "code",
   "execution_count": 64,
   "metadata": {},
   "outputs": [],
   "source": [
    "d1.compute_all_detour_node_ranges()"
   ]
  },
  {
   "cell_type": "code",
   "execution_count": 65,
   "metadata": {},
   "outputs": [
    {
     "data": {
      "text/plain": [
       "[{(1, 0), (1, 1)}, set(), set()]"
      ]
     },
     "execution_count": 65,
     "metadata": {},
     "output_type": "execute_result"
    }
   ],
   "source": [
    "d1.node_ranges\n"
   ]
  },
  {
   "cell_type": "code",
   "execution_count": 66,
   "metadata": {},
   "outputs": [
    {
     "data": {
      "text/plain": [
       "[0, 0, 2]"
      ]
     },
     "execution_count": 66,
     "metadata": {},
     "output_type": "execute_result"
    }
   ],
   "source": [
    "d1.slk"
   ]
  },
  {
   "cell_type": "code",
   "execution_count": 67,
   "metadata": {},
   "outputs": [
    {
     "data": {
      "text/plain": [
       "[254, 256, 259]"
      ]
     },
     "execution_count": 67,
     "metadata": {},
     "output_type": "execute_result"
    }
   ],
   "source": [
    "d1.ddl"
   ]
  },
  {
   "cell_type": "code",
   "execution_count": 68,
   "metadata": {},
   "outputs": [
    {
     "data": {
      "text/plain": [
       "[254, 256, 257]"
      ]
     },
     "execution_count": 68,
     "metadata": {},
     "output_type": "execute_result"
    }
   ],
   "source": [
    "d1.arr"
   ]
  },
  {
   "cell_type": "code",
   "execution_count": null,
   "metadata": {},
   "outputs": [],
   "source": [
    "print_user_perception(d1, sma.G, step_by_step=True)"
   ]
  },
  {
   "cell_type": "markdown",
   "metadata": {},
   "source": [
    "# ESSAI UPDATE ET DECIDE CONDUCTEUR"
   ]
  },
  {
   "cell_type": "code",
   "execution_count": null,
   "metadata": {},
   "outputs": [],
   "source": [
    "SIZE_MAP = 5\n",
    "PER_PERTURB_MAP = 0\n",
    "MAX_NB_DRIVERS = np.arange(5,500,50)\n",
    "MAX_NB_RIDERS = 100\n",
    "NB_RUN = 1000\n",
    "SEED = [1,6,42,69,48,100,26,35,89,663,559,478,452,236,5789,555,666,777,888,999,111,222,333,444,555]\n",
    "#NB_REP = len(SEED)\n",
    "\n",
    "#riders_types=['naive','retag','retag_risky']\n",
    "riders_types=['naive','retag']\n",
    "results = []\n",
    "\n",
    "G = generate_2D_graph(SIZE_MAP, coef_suppr=PER_PERTURB_MAP, show=True)"
   ]
  },
  {
   "cell_type": "code",
   "execution_count": null,
   "metadata": {},
   "outputs": [],
   "source": [
    "sma = SMA()\n",
    "sma.setRoadGraph(G)\n",
    "source = (1,0)\n",
    "target = (3,2)\n",
    "d1 = DriverAgent(1, source, target, 0.5)\n"
   ]
  },
  {
   "cell_type": "code",
   "execution_count": null,
   "metadata": {},
   "outputs": [],
   "source": [
    "print_user_perception(d1, sma.G)\n",
    "d1.node_ranges"
   ]
  },
  {
   "cell_type": "markdown",
   "metadata": {},
   "source": [
    "on a rien changer, si je fais update, je suis sensé avoir la même chose"
   ]
  },
  {
   "cell_type": "code",
   "execution_count": null,
   "metadata": {},
   "outputs": [],
   "source": [
    "d1.update()"
   ]
  },
  {
   "cell_type": "code",
   "execution_count": null,
   "metadata": {},
   "outputs": [],
   "source": [
    "print_user_perception(d1, sma.G)\n",
    "d1.node_ranges[0]"
   ]
  },
  {
   "cell_type": "markdown",
   "metadata": {},
   "source": [
    "maintenant, j'ajoute un passager"
   ]
  },
  {
   "cell_type": "code",
   "execution_count": null,
   "metadata": {},
   "outputs": [],
   "source": [
    "d1.add_rider_to_scheduler(None, (1,1), (3,1), 1, 3)\n",
    "d1.update()\n",
    "print_user_perception(d1, sma.G, step_by_step=True)\n",
    "d1.node_ranges[0]\n",
    "print(\"trip:\",d1.trip)"
   ]
  },
  {
   "cell_type": "markdown",
   "metadata": {},
   "source": [
    "perception ok, je decide de bouger"
   ]
  },
  {
   "cell_type": "code",
   "execution_count": null,
   "metadata": {},
   "outputs": [],
   "source": [
    "d1.decide()"
   ]
  },
  {
   "cell_type": "markdown",
   "metadata": {},
   "source": [
    "le conducteur mets à jour ses infos"
   ]
  },
  {
   "cell_type": "code",
   "execution_count": null,
   "metadata": {},
   "outputs": [],
   "source": [
    "d1.update()\n",
    "print_user_perception(d1, sma.G, step_by_step=True)\n",
    "d1.node_ranges[0]\n",
    "print(\"trip:\",d1.trip)"
   ]
  },
  {
   "cell_type": "markdown",
   "metadata": {},
   "source": [
    "éxécution complète"
   ]
  },
  {
   "cell_type": "code",
   "execution_count": null,
   "metadata": {},
   "outputs": [],
   "source": [
    "sma = SMA()\n",
    "sma.setRoadGraph(G)\n",
    "source = (1,0)\n",
    "target = (3,2)\n",
    "d1 = DriverAgent(1, source, target, 0.5)\n",
    "d1.add_rider_to_scheduler(None, (1,1), (3,1), 1, 3)\n",
    "tick = 0\n",
    "while d1.is_alive == True :\n",
    "    print(\"tick:\",tick)\n",
    "    print(\"pos\",d1.v_r)\n",
    "    d1.update()\n",
    "    print_user_perception(d1, sma.G, step_by_step=True)\n",
    "    d1.decide()\n",
    "    tick+=1"
   ]
  },
  {
   "cell_type": "code",
   "execution_count": null,
   "metadata": {},
   "outputs": [],
   "source": [
    "#wt range compute example\n",
    "source = (1,1)\n",
    "list(nx.ego_graph(G, source, 5))"
   ]
  },
  {
   "cell_type": "code",
   "execution_count": null,
   "metadata": {},
   "outputs": [],
   "source": [
    "paths = list(nx.all_simple_paths(G, source=source, target=target, cutoff=limit_range))\n",
    "set([item for sublist in paths for item in sublist])"
   ]
  },
  {
   "cell_type": "markdown",
   "metadata": {},
   "source": [
    "ESSAI AVEC SMA ET TSA"
   ]
  },
  {
   "cell_type": "code",
   "execution_count": 7,
   "metadata": {},
   "outputs": [
    {
     "name": "stderr",
     "output_type": "stream",
     "text": [
      "/home/fevrec/Applications/anaconda3/lib/python3.7/site-packages/networkx/drawing/nx_pylab.py:579: MatplotlibDeprecationWarning: \n",
      "The iterable function was deprecated in Matplotlib 3.1 and will be removed in 3.3. Use np.iterable instead.\n",
      "  if not cb.iterable(width):\n",
      "/home/fevrec/Applications/anaconda3/lib/python3.7/site-packages/networkx/drawing/nx_pylab.py:676: MatplotlibDeprecationWarning: \n",
      "The iterable function was deprecated in Matplotlib 3.1 and will be removed in 3.3. Use np.iterable instead.\n",
      "  if cb.iterable(node_size):  # many node sizes\n"
     ]
    },
    {
     "data": {
      "image/png": "[encoded data removed]",
      "text/plain": [
       "<Figure size 432x288 with 1 Axes>"
      ]
     },
     "metadata": {},
     "output_type": "display_data"
    }
   ],
   "source": [
    "SIZE_MAP = 5\n",
    "PER_PERTURB_MAP = 0\n",
    "MAX_NB_DRIVERS = np.arange(5,500,50)\n",
    "MAX_NB_RIDERS = 100\n",
    "NB_RUN = 1000\n",
    "SEED = [1,6,42,69,48,100,26,35,89,663,559,478,452,236,5789,555,666,777,888,999,111,222,333,444,555]\n",
    "#NB_REP = len(SEED)\n",
    "\n",
    "#riders_types=['naive','retag','retag_risky']\n",
    "riders_types=['naive','retag']\n",
    "results = []\n",
    "\n",
    "G = generate_2D_graph(SIZE_MAP, coef_suppr=PER_PERTURB_MAP, show=True)"
   ]
  },
  {
   "cell_type": "code",
   "execution_count": 8,
   "metadata": {},
   "outputs": [],
   "source": [
    "sma = SMA(verbose=True)\n",
    "sma.setRoadGraph(G)\n",
    "source = (1,0)\n",
    "target = (3,2)\n",
    "d1 = DriverAgent(1, source, target, 1)\n",
    "\n",
    "tsa1 = TransportServiceAgent(2)\n",
    "r1 = RiderAgent(3, (1,1), (3,1), 0, 5)"
   ]
  },
  {
   "cell_type": "code",
   "execution_count": null,
   "metadata": {},
   "outputs": [],
   "source": [
    "sma.addAgent(d1)\n",
    "sma.addAgent(tsa1)\n",
    "sma.addAgent(r1)\n",
    "d1.add_rider_to_scheduler(r1,(1,1), (3,1), 1, 4)"
   ]
  },
  {
   "cell_type": "code",
   "execution_count": null,
   "metadata": {},
   "outputs": [],
   "source": [
    "sma.run(10)"
   ]
  },
  {
   "cell_type": "code",
   "execution_count": 25,
   "metadata": {},
   "outputs": [],
   "source": [
    "d1 = DriverAgent(1, source, target, 1)\n",
    "d2 = DriverAgent(2, source, target, 6)\n",
    "d3 = DriverAgent(3, source, target, 4)"
   ]
  },
  {
   "cell_type": "code",
   "execution_count": 27,
   "metadata": {},
   "outputs": [
    {
     "name": "stdout",
     "output_type": "stream",
     "text": [
      "I am driver 2 - trip: [(2, 0), (3, 0), (3, 1), (3, 2)]\n"
     ]
    }
   ],
   "source": [
    "a = {d1,d2}\n",
    "b = {d2,d3}\n",
    "c = a & b\n",
    "list(c)[0].to_string()"
   ]
  },
  {
   "cell_type": "code",
   "execution_count": null,
   "metadata": {},
   "outputs": [],
   "source": []
  }
 ],
 "metadata": {
  "kernelspec": {
   "display_name": "Python 3",
   "language": "python",
   "name": "python3"
  },
  "language_info": {
   "codemirror_mode": {
    "name": "ipython",
    "version": 3
   },
   "file_extension": ".py",
   "mimetype": "text/x-python",
   "name": "python",
   "nbconvert_exporter": "python",
   "pygments_lexer": "ipython3",
   "version": "3.7.4"
  }
 },
 "nbformat": 4,
 "nbformat_minor": 2
}
